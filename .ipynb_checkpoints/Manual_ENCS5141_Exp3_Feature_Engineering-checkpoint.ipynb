{
 "cells": [
  {
   "cell_type": "markdown",
   "metadata": {
    "colab_type": "text",
    "id": "view-in-github"
   },
   "source": [
    "<a href=\"https://colab.research.google.com/github/mkjubran/MANUAL-ENCS5141-INTELLIGENT-SYSTEMS-LAB/blob/main/Manual_ENCS5141_Exp3_Feature_Engineering.ipynb\" target=\"_parent\"><img src=\"https://colab.research.google.com/assets/colab-badge.svg\" alt=\"Open In Colab\"/></a>"
   ]
  },
  {
   "cell_type": "markdown",
   "metadata": {
    "id": "mkRHIvM06yZJ"
   },
   "source": [
    "## EXPLORATORY DATA ANALYSIS – FEATURE SELECTION AND FEATURE ENGINEERING"
   ]
  },
  {
   "cell_type": "markdown",
   "metadata": {
    "id": "pFB412fkroLI"
   },
   "source": [
    "#Experiment #3: Feature Selection and Feature Engineering\n",
    "\n",
    "This experiment focuses on discussing concepts and implementing code snippets to demonstrate various techniques used for feature selection nd feature engineering. These steps are vital in preparing data for machine learning and analysis. Throughout the experiment, you will also work on exercises to apply your knowledge and develop essential skills. The topics that will be discussed in the experiment are\n",
    "\n",
    "##3.1 Feature Selection\n",
    "3.1.1 Filtering Method using Variance \\\n",
    "3.1.2 Filtering Method using Information Gain \\\n",
    "\n",
    "##3.2 Data Transformation\n",
    "3.2.1 Scalling \\\n",
    "3.3.2 Discreateization \\\n",
    "3.3.3 Encoding \\\n",
    "\n",
    "##3.3 Handling High-Dimensional Data\n",
    "3.3.1 Principal Component Analysis \\\n",
    "\n",
    "---"
   ]
  },
  {
   "cell_type": "markdown",
   "metadata": {
    "id": "dAAk9et4CHw-"
   },
   "source": [
    "---\n",
    "---\n",
    "\n",
    "<h1><center>Part One</center></h1>\n",
    "\n",
    "---\n",
    "---"
   ]
  },
  {
   "cell_type": "markdown",
   "metadata": {
    "id": "0og2RNis1mWU"
   },
   "source": [
    "#3.1 Feature Selection\n"
   ]
  },
  {
   "cell_type": "markdown",
   "metadata": {
    "id": "cV8bWUF1KrZD"
   },
   "source": [
    "Feature selection is a critical data preprocessing technique in machine learning that involves choosing a subset of the most relevant features (variables or columns) from a dataset. The goal of feature selection is to improve the performance of machine learning models by reducing the dimensionality of the data, eliminating irrelevant or redundant features, and enhancing model interpretability and generalization. There are several common feature selection methods, which can be categorized into three main types: filter methods, wrapper methods, and embedded methods.\n",
    "*   **Filter Methods** involves using statistical measures to identify and select the most relevant features from a dataset. Some common filter methods for feature selection include:\n",
    "\n",
    "  - **Variance**: This method removes features that have a low variance, which means that they do not vary much across the data. This can help to remove noise and irrelevant features.\n",
    "  - **Information gain**: This method measures the reduction in entropy that is achieved by knowing the value of a feature. It can be used to identify features that are most informative for predicting the target variable.\n",
    "  - **Chi-squared test**: This method is used to test the independence of two variables. It can be used to identify features that are correlated with the target variable, which can be useful for classification and regression tasks.\n",
    "  - **Correlation coefficient**: This method measures the linear relationship between two variables. It can be used to identify features that are highly correlated with each other, which can be removed to reduce multicollinearity.\n",
    "- **Wrapper Methods** are techniques that involve selecting the optimal subset of features by repeatedly training and evaluating the machine learning model with different feature subsets. These methods are called \"wrapper\" methods because they wrap around the machine learning algorithm to find the best feature set based on model performance.Wrapper methods are model-specific, meaning they consider the performance of a specific machine learning algorithm. This can lead to highly relevant feature subsets for that particular algorithm.\n",
    "- **Embedded Methods** are techniques that incorporate feature selection directly into the process of training a machine learning model. Unlike filter methods that evaluate feature relevance independently of the chosen model, and wrapper methods that involve a separate evaluation process, embedded methods select features during the model training process itself. Some common examples of embedded methods are:\n",
    "  - **L1 Regularization (Lasso)**: Penalizes the absolute values of feature coefficients, effectively encouraging sparse feature sets.\n",
    "  - **Tree-Based Methods**: Decision trees and ensemble methods like Random Forest and Gradient Boosting inherently provide feature importance scores based on node impurity or information gain.\n",
    "  - **Linear Support Vector Machines (SVM)**: SVMs can automatically select relevant support vectors, effectively reducing the dimensionality.\n",
    "\n",
    " In this experiment, our primary emphasis will be on filtering methods, while we will explore wrapper and embedded methods in upcoming experiments."
   ]
  },
  {
   "cell_type": "markdown",
   "metadata": {
    "id": "c2JirLv0psC_"
   },
   "source": [
    "## 3.1.1 Filtering Method using Variance\n",
    "To demonstrate the filtering method using the variance threshold, let us start with synthetic data as presented in the code snippet below."
   ]
  },
  {
   "cell_type": "code",
   "execution_count": 1,
   "metadata": {
    "colab": {
     "base_uri": "https://localhost:8080/",
     "height": 206
    },
    "id": "-1p86a0lqGCw",
    "outputId": "8003a061-a2a8-4eb1-be0b-a2afd54f9062"
   },
   "outputs": [
    {
     "data": {
      "text/html": [
       "<div>\n",
       "<style scoped>\n",
       "    .dataframe tbody tr th:only-of-type {\n",
       "        vertical-align: middle;\n",
       "    }\n",
       "\n",
       "    .dataframe tbody tr th {\n",
       "        vertical-align: top;\n",
       "    }\n",
       "\n",
       "    .dataframe thead th {\n",
       "        text-align: right;\n",
       "    }\n",
       "</style>\n",
       "<table border=\"1\" class=\"dataframe\">\n",
       "  <thead>\n",
       "    <tr style=\"text-align: right;\">\n",
       "      <th></th>\n",
       "      <th>col_1</th>\n",
       "      <th>col_2</th>\n",
       "      <th>col_3</th>\n",
       "    </tr>\n",
       "  </thead>\n",
       "  <tbody>\n",
       "    <tr>\n",
       "      <th>0</th>\n",
       "      <td>1.0</td>\n",
       "      <td>2.4</td>\n",
       "      <td>3.01</td>\n",
       "    </tr>\n",
       "    <tr>\n",
       "      <th>1</th>\n",
       "      <td>1.1</td>\n",
       "      <td>2.2</td>\n",
       "      <td>3.04</td>\n",
       "    </tr>\n",
       "    <tr>\n",
       "      <th>2</th>\n",
       "      <td>1.2</td>\n",
       "      <td>2.1</td>\n",
       "      <td>3.04</td>\n",
       "    </tr>\n",
       "    <tr>\n",
       "      <th>3</th>\n",
       "      <td>1.1</td>\n",
       "      <td>2.6</td>\n",
       "      <td>3.06</td>\n",
       "    </tr>\n",
       "    <tr>\n",
       "      <th>4</th>\n",
       "      <td>1.0</td>\n",
       "      <td>2.5</td>\n",
       "      <td>3.00</td>\n",
       "    </tr>\n",
       "  </tbody>\n",
       "</table>\n",
       "</div>"
      ],
      "text/plain": [
       "   col_1  col_2  col_3\n",
       "0    1.0    2.4   3.01\n",
       "1    1.1    2.2   3.04\n",
       "2    1.2    2.1   3.04\n",
       "3    1.1    2.6   3.06\n",
       "4    1.0    2.5   3.00"
      ]
     },
     "execution_count": 1,
     "metadata": {},
     "output_type": "execute_result"
    }
   ],
   "source": [
    "from sklearn.feature_selection import VarianceThreshold\n",
    "import pandas as pd\n",
    "\n",
    "\n",
    "# Sample dataset with low-variance features\n",
    "data = [[1.0, 2.4, 3.01],\n",
    "     [1.1, 2.2, 3.04],\n",
    "     [1.2, 2.1, 3.04],\n",
    "     [1.1, 2.6, 3.06],\n",
    "     [1.0, 2.5, 3.00],\n",
    "     [1.1, 2.2, 3.01]]\n",
    "\n",
    "columns =['col_1', 'col_2', 'col_3']\n",
    "\n",
    "df = pd.DataFrame(data=data, columns=columns)\n",
    "df.head()\n"
   ]
  },
  {
   "cell_type": "markdown",
   "metadata": {
    "id": "CKFAyGeyqsA_"
   },
   "source": [
    "To assess the variance of individual features and apply the variance-based filtering method, we will employ the **VarianceThreshol()** method from sklearn. This method calculates the variance for each column (feature) and eliminates features with variances below a specified threshold, which we will set to 0 initially, thus retaining all features."
   ]
  },
  {
   "cell_type": "code",
   "execution_count": 2,
   "metadata": {
    "colab": {
     "base_uri": "https://localhost:8080/"
    },
    "id": "F8nyaDvUqyYx",
    "outputId": "ce551c01-fb8e-4fda-ba1c-1590939d9432"
   },
   "outputs": [
    {
     "data": {
      "text/plain": [
       "array([0.00472222, 0.03222222, 0.00045556])"
      ]
     },
     "execution_count": 2,
     "metadata": {},
     "output_type": "execute_result"
    }
   ],
   "source": [
    "from sklearn.feature_selection import VarianceThreshold\n",
    "\n",
    "# Initialize the VarianceThreshold selector with a threshold\n",
    "selector = VarianceThreshold(threshold=0)\n",
    "\n",
    "# Fit the selector to the data\n",
    "selector = selector.fit(df)\n",
    "\n",
    "# Apply the selector to the data\n",
    "df_high_variance = selector.transform(df)\n",
    "\n",
    "# Variance of the data\n",
    "selector.variances_"
   ]
  },
  {
   "cell_type": "markdown",
   "metadata": {
    "id": "alz2PQdAtOMO"
   },
   "source": [
    "It's evident that the 'col_3' feature has significantly lower variance in comparison to the other features, and it will be excluded if we establish a threshold value of 0.001."
   ]
  },
  {
   "cell_type": "code",
   "execution_count": 3,
   "metadata": {
    "colab": {
     "base_uri": "https://localhost:8080/"
    },
    "id": "fLpCQBaVtl9D",
    "outputId": "0676f5ee-cd2f-4198-85c8-fadf55a16595"
   },
   "outputs": [
    {
     "name": "stdout",
     "output_type": "stream",
     "text": [
      "Original Data:\n",
      "   col_1  col_2  col_3\n",
      "0    1.0    2.4   3.01\n",
      "1    1.1    2.2   3.04\n",
      "2    1.2    2.1   3.04\n",
      "3    1.1    2.6   3.06\n",
      "4    1.0    2.5   3.00\n",
      "5    1.1    2.2   3.01\n",
      "Data after VarianceThreshold:\n",
      "[[1.  2.4]\n",
      " [1.1 2.2]\n",
      " [1.2 2.1]\n",
      " [1.1 2.6]\n",
      " [1.  2.5]\n",
      " [1.1 2.2]]\n"
     ]
    }
   ],
   "source": [
    "# Initialize the VarianceThreshold selector with a threshold\n",
    "selector = VarianceThreshold(threshold=0.001)\n",
    "\n",
    "# Fit and apply the selector to the data\n",
    "df_high_variance = selector.fit_transform(df)\n",
    "\n",
    "# Display the original and selected data\n",
    "print(\"Original Data:\")\n",
    "print(df)\n",
    "\n",
    "print(\"Data after VarianceThreshold:\")\n",
    "print(df_high_variance)"
   ]
  },
  {
   "cell_type": "markdown",
   "metadata": {
    "id": "Ot_zVH23lMpC"
   },
   "source": [
    "**Task 3.1**: To understand the variance of a feature, modify the values of both feature **col_3** and feature **col_1** in such a way that, in the previous code snippet with a **0.001** threshold, the **col_3 feature will be retained, while the col_1 feature will be eliminated**.\n"
   ]
  },
  {
   "cell_type": "code",
   "execution_count": 4,
   "metadata": {
    "id": "_M91SU8AmZFU"
   },
   "outputs": [
    {
     "data": {
      "text/html": [
       "<div>\n",
       "<style scoped>\n",
       "    .dataframe tbody tr th:only-of-type {\n",
       "        vertical-align: middle;\n",
       "    }\n",
       "\n",
       "    .dataframe tbody tr th {\n",
       "        vertical-align: top;\n",
       "    }\n",
       "\n",
       "    .dataframe thead th {\n",
       "        text-align: right;\n",
       "    }\n",
       "</style>\n",
       "<table border=\"1\" class=\"dataframe\">\n",
       "  <thead>\n",
       "    <tr style=\"text-align: right;\">\n",
       "      <th></th>\n",
       "      <th>col_1</th>\n",
       "      <th>col_2</th>\n",
       "      <th>col_3</th>\n",
       "    </tr>\n",
       "  </thead>\n",
       "  <tbody>\n",
       "    <tr>\n",
       "      <th>0</th>\n",
       "      <td>1.000</td>\n",
       "      <td>2.4</td>\n",
       "      <td>3.11</td>\n",
       "    </tr>\n",
       "    <tr>\n",
       "      <th>1</th>\n",
       "      <td>1.011</td>\n",
       "      <td>2.2</td>\n",
       "      <td>3.54</td>\n",
       "    </tr>\n",
       "    <tr>\n",
       "      <th>2</th>\n",
       "      <td>1.002</td>\n",
       "      <td>2.1</td>\n",
       "      <td>3.24</td>\n",
       "    </tr>\n",
       "    <tr>\n",
       "      <th>3</th>\n",
       "      <td>1.022</td>\n",
       "      <td>2.6</td>\n",
       "      <td>3.06</td>\n",
       "    </tr>\n",
       "    <tr>\n",
       "      <th>4</th>\n",
       "      <td>1.005</td>\n",
       "      <td>2.5</td>\n",
       "      <td>3.20</td>\n",
       "    </tr>\n",
       "  </tbody>\n",
       "</table>\n",
       "</div>"
      ],
      "text/plain": [
       "   col_1  col_2  col_3\n",
       "0  1.000    2.4   3.11\n",
       "1  1.011    2.2   3.54\n",
       "2  1.002    2.1   3.24\n",
       "3  1.022    2.6   3.06\n",
       "4  1.005    2.5   3.20"
      ]
     },
     "execution_count": 4,
     "metadata": {},
     "output_type": "execute_result"
    }
   ],
   "source": [
    "#write you code here\n",
    "\n",
    "\n",
    "from sklearn.feature_selection import VarianceThreshold\n",
    "import pandas as pd\n",
    "\n",
    "\n",
    "# Sample dataset with low-variance features\n",
    "data2 = [[1.0, 2.4, 3.11],\n",
    "     [1.011, 2.2, 3.54],\n",
    "     [1.002, 2.1, 3.24],\n",
    "     [1.022, 2.6, 3.06],\n",
    "     [1.005, 2.5, 3.20],\n",
    "     [1.021, 2.2, 3.11]]\n",
    "\n",
    "columns2 =['col_1', 'col_2', 'col_3']\n",
    "\n",
    "df2 = pd.DataFrame(data=data2, columns=columns2)\n",
    "df2.head()\n"
   ]
  },
  {
   "cell_type": "code",
   "execution_count": 5,
   "metadata": {},
   "outputs": [
    {
     "data": {
      "text/plain": [
       "array([7.58055556e-05, 3.22222222e-02, 2.54000000e-02])"
      ]
     },
     "execution_count": 5,
     "metadata": {},
     "output_type": "execute_result"
    }
   ],
   "source": [
    "from sklearn.feature_selection import VarianceThreshold\n",
    "\n",
    "# Initialize the VarianceThreshold selector with a threshold\n",
    "selector2 = VarianceThreshold(threshold=0)\n",
    "\n",
    "# Fit the selector to the data\n",
    "selector2 = selector2.fit(df2)\n",
    "\n",
    "# Apply the selector to the data\n",
    "df_high_variance = selector2.transform(df2)\n",
    "\n",
    "# Variance of the data\n",
    "selector2.variances_"
   ]
  },
  {
   "cell_type": "code",
   "execution_count": 6,
   "metadata": {},
   "outputs": [
    {
     "name": "stdout",
     "output_type": "stream",
     "text": [
      "Original Data:\n",
      "   col_1  col_2  col_3\n",
      "0  1.000    2.4   3.11\n",
      "1  1.011    2.2   3.54\n",
      "2  1.002    2.1   3.24\n",
      "3  1.022    2.6   3.06\n",
      "4  1.005    2.5   3.20\n",
      "5  1.021    2.2   3.11\n",
      "Data after VarianceThreshold:\n",
      "[[2.4  3.11]\n",
      " [2.2  3.54]\n",
      " [2.1  3.24]\n",
      " [2.6  3.06]\n",
      " [2.5  3.2 ]\n",
      " [2.2  3.11]]\n"
     ]
    }
   ],
   "source": [
    "# Initialize the VarianceThreshold selector with a threshold\n",
    "selector2 = VarianceThreshold(threshold=0.001)\n",
    "\n",
    "# Fit and apply the selector to the data\n",
    "df_high_variance = selector2.fit_transform(df2)\n",
    "\n",
    "# Display the original and selected data\n",
    "print(\"Original Data:\")\n",
    "print(df2)\n",
    "\n",
    "print(\"Data after VarianceThreshold:\")\n",
    "print(df_high_variance)"
   ]
  },
  {
   "cell_type": "markdown",
   "metadata": {
    "id": "VaLFJLHS_bUD"
   },
   "source": [
    "To demonstrate the affect of applying the variance threshold filtering method on machine learning, we will implement this approach on the iris dataset. The Iris dataset is a classic and widely used dataset in machine learning and statistics. Within this dataset, there are 150 instances, each featuring 4 continuous, numeric attributes. The target variable, categorized by class, signifies the different Iris species: Iris-setosa, Iris-versicolor, and Iris-virginica. The attributes, also referred to as features, encompass the following dimensions:\n",
    "- Sepal Length (measured in centimeters): This dimension quantifies the length of the sepal, which is the outermost part of the flower.\n",
    "- Sepal Width (measured in centimeters): This dimension specifies the width of the sepal.\n",
    "- Petal Length (measured in centimeters): This dimension characterizes the length of the petal, which constitutes the inner part of the flower.\n",
    "- Petal Width (measured in centimeters): This dimension quantifies the width of the petal.\n",
    "\n",
    "To display images of Iris flowers, run the following code.\n"
   ]
  },
  {
   "cell_type": "code",
   "execution_count": 7,
   "metadata": {
    "colab": {
     "base_uri": "https://localhost:8080/",
     "height": 706
    },
    "id": "TwoTc6a8BbFu",
    "outputId": "bb65edc4-cf47-4a95-a84c-929c2a5973d0"
   },
   "outputs": [
    {
     "data": {
      "image/jpeg": "[encoded data removed]",
      "text/plain": [
       "<IPython.core.display.Image object>"
      ]
     },
     "metadata": {
      "image/jpeg": {
       "height": 200,
       "width": 200
      }
     },
     "output_type": "display_data"
    },
    {
     "name": "stdout",
     "output_type": "stream",
     "text": [
      "Iris Setosa\n",
      "\n"
     ]
    },
    {
     "data": {
      "image/jpeg": "[encoded data removed]",
      "text/plain": [
       "<IPython.core.display.Image object>"
      ]
     },
     "metadata": {
      "image/jpeg": {
       "height": 200,
       "width": 200
      }
     },
     "output_type": "display_data"
    },
    {
     "name": "stdout",
     "output_type": "stream",
     "text": [
      "Iris Versicolor\n",
      "\n"
     ]
    },
    {
     "data": {
      "image/jpeg": "[encoded data removed]",
      "text/plain": [
       "<IPython.core.display.Image object>"
      ]
     },
     "metadata": {
      "image/jpeg": {
       "height": 200,
       "width": 200
      }
     },
     "output_type": "display_data"
    },
    {
     "name": "stdout",
     "output_type": "stream",
     "text": [
      "Iris Virginica\n"
     ]
    }
   ],
   "source": [
    "from IPython.core.display import Image, display\n",
    "display(Image('http://mirlab.org/jang/books/dcpr/image/Iris-setosa-10_1.jpg', width=200, height=200))\n",
    "print (\"Iris Setosa\\n\")\n",
    "\n",
    "display(Image('http://mirlab.org/jang/books/dcpr/image/Iris-versicolor-21_1.jpg', width=200, height=200))\n",
    "print (\"Iris Versicolor\\n\")\n",
    "\n",
    "display(Image('http://mirlab.org/jang/books/dcpr/image/Iris-virginica-3_1.jpg', width=200, height=200))\n",
    "print (\"Iris Virginica\")"
   ]
  },
  {
   "cell_type": "markdown",
   "metadata": {
    "id": "zxi8ehIBCm5M"
   },
   "source": [
    "To import the dataset and display the features of a sample, use the following code."
   ]
  },
  {
   "cell_type": "code",
   "execution_count": 8,
   "metadata": {
    "colab": {
     "base_uri": "https://localhost:8080/",
     "height": 206
    },
    "id": "fCvRonkwAP2H",
    "outputId": "5cb9fbe3-9ee4-41fe-9e64-55dd754a4bc7"
   },
   "outputs": [
    {
     "data": {
      "text/html": [
       "<div>\n",
       "<style scoped>\n",
       "    .dataframe tbody tr th:only-of-type {\n",
       "        vertical-align: middle;\n",
       "    }\n",
       "\n",
       "    .dataframe tbody tr th {\n",
       "        vertical-align: top;\n",
       "    }\n",
       "\n",
       "    .dataframe thead th {\n",
       "        text-align: right;\n",
       "    }\n",
       "</style>\n",
       "<table border=\"1\" class=\"dataframe\">\n",
       "  <thead>\n",
       "    <tr style=\"text-align: right;\">\n",
       "      <th></th>\n",
       "      <th>sepal length (cm)</th>\n",
       "      <th>sepal width (cm)</th>\n",
       "      <th>petal length (cm)</th>\n",
       "      <th>petal width (cm)</th>\n",
       "      <th>target</th>\n",
       "    </tr>\n",
       "  </thead>\n",
       "  <tbody>\n",
       "    <tr>\n",
       "      <th>0</th>\n",
       "      <td>5.1</td>\n",
       "      <td>3.5</td>\n",
       "      <td>1.4</td>\n",
       "      <td>0.2</td>\n",
       "      <td>0.0</td>\n",
       "    </tr>\n",
       "    <tr>\n",
       "      <th>1</th>\n",
       "      <td>4.9</td>\n",
       "      <td>3.0</td>\n",
       "      <td>1.4</td>\n",
       "      <td>0.2</td>\n",
       "      <td>0.0</td>\n",
       "    </tr>\n",
       "    <tr>\n",
       "      <th>2</th>\n",
       "      <td>4.7</td>\n",
       "      <td>3.2</td>\n",
       "      <td>1.3</td>\n",
       "      <td>0.2</td>\n",
       "      <td>0.0</td>\n",
       "    </tr>\n",
       "    <tr>\n",
       "      <th>3</th>\n",
       "      <td>4.6</td>\n",
       "      <td>3.1</td>\n",
       "      <td>1.5</td>\n",
       "      <td>0.2</td>\n",
       "      <td>0.0</td>\n",
       "    </tr>\n",
       "    <tr>\n",
       "      <th>4</th>\n",
       "      <td>5.0</td>\n",
       "      <td>3.6</td>\n",
       "      <td>1.4</td>\n",
       "      <td>0.2</td>\n",
       "      <td>0.0</td>\n",
       "    </tr>\n",
       "  </tbody>\n",
       "</table>\n",
       "</div>"
      ],
      "text/plain": [
       "   sepal length (cm)  sepal width (cm)  petal length (cm)  petal width (cm)  \\\n",
       "0                5.1               3.5                1.4               0.2   \n",
       "1                4.9               3.0                1.4               0.2   \n",
       "2                4.7               3.2                1.3               0.2   \n",
       "3                4.6               3.1                1.5               0.2   \n",
       "4                5.0               3.6                1.4               0.2   \n",
       "\n",
       "   target  \n",
       "0     0.0  \n",
       "1     0.0  \n",
       "2     0.0  \n",
       "3     0.0  \n",
       "4     0.0  "
      ]
     },
     "execution_count": 8,
     "metadata": {},
     "output_type": "execute_result"
    }
   ],
   "source": [
    "# Import necessary libraries\n",
    "import pandas as pd\n",
    "from sklearn.datasets import load_iris\n",
    "import numpy as np\n",
    "\n",
    "# Load the Iris dataset\n",
    "data = load_iris()\n",
    "X, y = data.data, data.target\n",
    "\n",
    "# Create a DataFrame to work with the dataset\n",
    "iris_df = pd.DataFrame(data=np.c_[X, y], columns=data.feature_names + ['target'])\n",
    "\n",
    "iris_df.head()"
   ]
  },
  {
   "cell_type": "markdown",
   "metadata": {
    "id": "96sJLL95nIEl"
   },
   "source": [
    "As previously explained, the dataset comprises four features and a label. To obtain the variance of each feature run the following code snippet."
   ]
  },
  {
   "cell_type": "code",
   "execution_count": 9,
   "metadata": {
    "colab": {
     "base_uri": "https://localhost:8080/"
    },
    "id": "t2cC8Pv1mxRy",
    "outputId": "043c0d56-f64c-46cc-9118-d10b11b7f5c7"
   },
   "outputs": [
    {
     "name": "stdout",
     "output_type": "stream",
     "text": [
      "The variance of each featue: [0.68112222 0.18871289 3.09550267 0.57713289]\n"
     ]
    }
   ],
   "source": [
    "# Apply Variance Threshold\n",
    "selector = VarianceThreshold(threshold=0.3) # the threshold value is set to 0.3\n",
    "X_variance = selector.fit_transform(X)\n",
    "\n",
    "print(f\"The variance of each featue: {selector.variances_}\")"
   ]
  },
  {
   "cell_type": "markdown",
   "metadata": {
    "id": "jNsWy4Asx37g"
   },
   "source": [
    "As observed, the features have varying variance values, and therefore, the feature selection method can be used to eliminate low variance features.\n",
    "\n",
    "To investigate the impact of the variance threshold filtering method on machine learning, we will compare the performance of the machine learning models with and without feature filtering. In this context, we will employ the **train_test_split()** method to partition the dataset into training and testing datasets. Subsequently, we will utilize the training data to train the random forest classifier. Following the training, we will assess both training and testing accuracies (classification correctness). More comprehensive details regarding the random forest classifier and the training and evaluation processes will be discussed in future experiments."
   ]
  },
  {
   "cell_type": "code",
   "execution_count": 10,
   "metadata": {
    "colab": {
     "base_uri": "https://localhost:8080/"
    },
    "id": "0Prog92XvwPE",
    "outputId": "16b6057c-ed70-4b5e-c9dc-338b08a0ef19"
   },
   "outputs": [
    {
     "name": "stdout",
     "output_type": "stream",
     "text": [
      "The variance of each featue: [0.67299931 0.20003056 3.04512222 0.56122222]\n",
      "Number of original features: 4\n",
      "Number of features after variance threshold filtering: 3\n",
      "Accuracy of Original features (testing accuracy): 1.0\n",
      "Accuracy after variance threshold filtering (testing accuracy): 1.0\n"
     ]
    }
   ],
   "source": [
    "# Import necessary libraries\n",
    "from sklearn.model_selection import train_test_split\n",
    "from sklearn.ensemble import RandomForestClassifier\n",
    "from sklearn.metrics import accuracy_score\n",
    "\n",
    "# Split the dataset into training and testing sets\n",
    "X_train, X_test, y_train, y_test = train_test_split(X, y, test_size=0.2, random_state=42)\n",
    "\n",
    "# Train a classifier on the original features and evaluate\n",
    "clf = RandomForestClassifier(random_state=42)\n",
    "clf.fit(X_train, y_train)\n",
    "y_pred = clf.predict(X_test)\n",
    "accuracy = accuracy_score(y_test, y_pred)\n",
    "\n",
    "# Apply Variance Threshold\n",
    "selector = VarianceThreshold(threshold=0.3)\n",
    "X_train_variance = selector.fit_transform(X_train)\n",
    "X_test_variance = selector.transform(X_test)\n",
    "\n",
    "# Train a classifier on the selected features and evaluate\n",
    "clf = RandomForestClassifier(random_state=42)\n",
    "clf.fit(X_train_variance, y_train)\n",
    "y_pred = clf.predict(X_test_variance)\n",
    "accuracy_variance = accuracy_score(y_test, y_pred)\n",
    "\n",
    "print(f\"The variance of each featue: {selector.variances_}\")\n",
    "print(f\"Number of original features: {X_train.shape[1]}\")\n",
    "print(f\"Number of features after variance threshold filtering: {X_train_variance.shape[1]}\")\n",
    "print(f\"Accuracy of Original features (testing accuracy): {accuracy}\")\n",
    "print(f\"Accuracy after variance threshold filtering (testing accuracy): {accuracy_variance}\")\n"
   ]
  },
  {
   "cell_type": "markdown",
   "metadata": {
    "id": "Uexl2Sr7sU7D"
   },
   "source": [
    "Note that the order of applying feature filtering (feature selection or feature engineering) concerning splitting the dataset into training and testing sets is an important consideration in machine learning workflows. Here are the common approaches:\n",
    "\n",
    "- **Apply Feature Filtering Before Data Splitting**:\n",
    "\n",
    "  *Advantages*:\n",
    "\n",
    "  - Efficiency: Filtering features on the entire dataset before splitting can be computationally more efficient, especially when dealing with a large dataset. You perform the filtering process once, and the same filtered features are used for both training and testing.\n",
    "\n",
    "  - Consistency: Since the same features are used for both the training and testing datasets, you ensure that feature engineering decisions are consistent across both sets.\n",
    "\n",
    "  *Disadvantages*:\n",
    "\n",
    "  - Risk of Data Leakage: The main disadvantage of this approach is the potential for data leakage. If the feature filtering process is influenced by the testing data, it can lead to overly optimistic performance metrics.\n",
    "\n",
    "- **Apply Feature Filtering After Data Splitting**:\n",
    "\n",
    "  *Advantages*:\n",
    "\n",
    "  - Data Leakage Prevention: By applying feature filtering independently to the training and testing datasets, you mitigate the risk of data leakage. The filtering process is blind to the testing data.\n",
    "\n",
    "  - Robustness: This approach is more robust and realistic for model evaluation because it simulates how the model will perform on unseen data.\n",
    "\n",
    "  *Disadvantages*:\n",
    "\n",
    "  - Increased Computation: Applying feature filtering separately to both sets increases computation time, as you need to perform the filtering process twice.\n",
    "\n",
    "  - Possibly Different Features: It may result in different sets of features for the training and testing datasets, which could lead to inconsistencies in feature engineering.\n",
    "\n",
    "In practice, it's often recommended to apply feature filtering after data splitting to prevent data leakage, especially when dealing with critical or sensitive applications where maintaining the integrity of the testing dataset is crucial. However, in situations with extremely large datasets or when computational efficiency is a significant concern, applying feature filtering before splitting might be a practical choice. The key is to be aware of the potential data leakage issue and take steps to address it if you choose the pre-split approach, such as using cross-validation techniques for model evaluation. In practice, both methods can be effective if implemented correctly. In the preceding code snippet, feature filtering is applied prior to dataset splitting."
   ]
  },
  {
   "cell_type": "markdown",
   "metadata": {
    "id": "_tngznDGv0Le"
   },
   "source": [
    "**Task 3.2**: To comprehend the effect of feature filtering using variance threshold on machine learning models, alter the value of the feature selection threshold in the previous code snippet and observe the number of eliminated and retained features, as well as the model's performance before and after feature filtering."
   ]
  },
  {
   "cell_type": "markdown",
   "metadata": {
    "id": "cjY7feYeCLfh"
   },
   "source": [
    "## 3.1.4 Filtering Method using Information Gain"
   ]
  },
  {
   "cell_type": "markdown",
   "metadata": {
    "id": "yrW_j5NMEuj2"
   },
   "source": [
    "**Task 3.3**: Modify the code snippet in the 'Filtering Method using Variance' section to demonstrate feature filtering using Information Gain. To calculate information gain, utilize the **SelectKBest()** method with the **mutual_info_classif** function in sklearn."
   ]
  },
  {
   "cell_type": "code",
   "execution_count": 11,
   "metadata": {
    "id": "WcveSfAzEvRM"
   },
   "outputs": [
    {
     "name": "stdout",
     "output_type": "stream",
     "text": [
      "Number of original features: 4\n",
      "Number of features after Information Gain filtering: 2\n",
      "Accuracy of Original features (testing accuracy): 1.0\n",
      "Accuracy after Information Gain filtering (testing accuracy): 1.0\n"
     ]
    }
   ],
   "source": [
    "# Import necessary libraries\n",
    "from sklearn.model_selection import train_test_split\n",
    "from sklearn.ensemble import RandomForestClassifier\n",
    "from sklearn.metrics import accuracy_score\n",
    "from sklearn.feature_selection import SelectKBest, mutual_info_classif\n",
    "\n",
    "# Assuming X and y are your data and labels\n",
    "# Split the dataset into training and testing sets\n",
    "X_train, X_test, y_train, y_test = train_test_split(X, y, test_size=0.2, random_state=42)\n",
    "\n",
    "# Train a classifier on the original features and evaluate\n",
    "clf = RandomForestClassifier(random_state=42)\n",
    "clf.fit(X_train, y_train)\n",
    "y_pred = clf.predict(X_test)\n",
    "accuracy = accuracy_score(y_test, y_pred)\n",
    "\n",
    "# Apply Information Gain\n",
    "selector = SelectKBest(mutual_info_classif, k=2)  # keep the top 2 features\n",
    "X_train_ig = selector.fit_transform(X_train, y_train)\n",
    "X_test_ig = selector.transform(X_test)\n",
    "\n",
    "# Train a classifier on the selected features and evaluate\n",
    "clf = RandomForestClassifier(random_state=42)\n",
    "clf.fit(X_train_ig, y_train)\n",
    "y_pred = clf.predict(X_test_ig)\n",
    "accuracy_ig = accuracy_score(y_test, y_pred)\n",
    "\n",
    "\n",
    "print(f\"Number of original features: {X_train.shape[1]}\")\n",
    "print(f\"Number of features after Information Gain filtering: {X_train_ig.shape[1]}\")\n",
    "print(f\"Accuracy of Original features (testing accuracy): {accuracy}\")\n",
    "print(f\"Accuracy after Information Gain filtering (testing accuracy): {accuracy_ig}\")\n"
   ]
  },
  {
   "cell_type": "markdown",
   "metadata": {
    "id": "wfBshSnFE4ri"
   },
   "source": [
    "##Filtering Methods **Task 3.4**\n",
    "In this task, you will compare different feature selection techniques. You will apply these techniques to a modified version of the Pima Indians Diabetes Database from Kaggle (https://www.kaggle.com/datasets/uciml/pima-indians-diabetes-database). This dataset is originally from the Indian Institute of Diabetes and Digestive and Kidney Diseases. The dataset's objective is to predict, based on certain diagnostic measurements, whether a patient has diabetes or not. The Diabetes dataset is stored in a file named **ENCS5141_Exp3_Diabetes.csv**, which can be found in the GitHub repository located at https://github.com/mkjubran/ENCS5141Datasets.\n",
    "\n",
    "After cloning the repository using the code below, apply the following procedure to solve the task:\n",
    "\n",
    "1. Read the dataset from the ENCS5141_Exp3_Diabetes.csv file.\n",
    "2. Apply the Random Forest classifier to the original dataset and measure the classification (testing) accuracy.\n",
    "3. Utilize the four feature filtering methods mentioned previously for feature selection, then apply the Random Forest classifier to the selected features, and measure the testing accuracies for each method.\n",
    "4. Experiment with varying the parameters of each feature filtering method and observe the effect on the classification accuracy of the Random Forest classifier."
   ]
  },
  {
   "cell_type": "code",
   "execution_count": 12,
   "metadata": {
    "colab": {
     "base_uri": "https://localhost:8080/"
    },
    "id": "s134_jeCG8Sk",
    "outputId": "988c42aa-20e9-4860-ee6a-2b29903e9aa7",
    "scrolled": true
   },
   "outputs": [
    {
     "name": "stderr",
     "output_type": "stream",
     "text": [
      "'rm' is not recognized as an internal or external command,\n",
      "operable program or batch file.\n",
      "fatal: destination path 'ENCS5141Datasets' already exists and is not an empty directory.\n"
     ]
    }
   ],
   "source": [
    "!rm -rf ./ENCS5141Datasets\n",
    "!git clone https://github.com/mkjubran/ENCS5141Datasets.git"
   ]
  },
  {
   "cell_type": "code",
   "execution_count": 13,
   "metadata": {
    "id": "U_JpY7a3E7c4"
   },
   "outputs": [],
   "source": [
    "#write you code here\n",
    "import pandas as pd\n",
    "from sklearn.ensemble import RandomForestClassifier\n",
    "from sklearn.metrics import accuracy_score\n",
    "from sklearn.model_selection import train_test_split"
   ]
  },
  {
   "cell_type": "code",
   "execution_count": 14,
   "metadata": {},
   "outputs": [
    {
     "data": {
      "text/html": [
       "<div>\n",
       "<style scoped>\n",
       "    .dataframe tbody tr th:only-of-type {\n",
       "        vertical-align: middle;\n",
       "    }\n",
       "\n",
       "    .dataframe tbody tr th {\n",
       "        vertical-align: top;\n",
       "    }\n",
       "\n",
       "    .dataframe thead th {\n",
       "        text-align: right;\n",
       "    }\n",
       "</style>\n",
       "<table border=\"1\" class=\"dataframe\">\n",
       "  <thead>\n",
       "    <tr style=\"text-align: right;\">\n",
       "      <th></th>\n",
       "      <th>Unnamed: 0</th>\n",
       "      <th>Pregnancies</th>\n",
       "      <th>Glucose</th>\n",
       "      <th>BloodPressure</th>\n",
       "      <th>SkinThickness</th>\n",
       "      <th>Insulin</th>\n",
       "      <th>BMI</th>\n",
       "      <th>DiabetesPedigreeFunction</th>\n",
       "      <th>Age</th>\n",
       "      <th>Outcome</th>\n",
       "    </tr>\n",
       "  </thead>\n",
       "  <tbody>\n",
       "    <tr>\n",
       "      <th>0</th>\n",
       "      <td>0</td>\n",
       "      <td>6</td>\n",
       "      <td>148</td>\n",
       "      <td>72</td>\n",
       "      <td>35</td>\n",
       "      <td>0</td>\n",
       "      <td>33.6</td>\n",
       "      <td>0.627</td>\n",
       "      <td>50</td>\n",
       "      <td>1</td>\n",
       "    </tr>\n",
       "    <tr>\n",
       "      <th>1</th>\n",
       "      <td>1</td>\n",
       "      <td>1</td>\n",
       "      <td>85</td>\n",
       "      <td>66</td>\n",
       "      <td>29</td>\n",
       "      <td>0</td>\n",
       "      <td>26.6</td>\n",
       "      <td>0.351</td>\n",
       "      <td>31</td>\n",
       "      <td>0</td>\n",
       "    </tr>\n",
       "    <tr>\n",
       "      <th>2</th>\n",
       "      <td>2</td>\n",
       "      <td>8</td>\n",
       "      <td>183</td>\n",
       "      <td>64</td>\n",
       "      <td>0</td>\n",
       "      <td>0</td>\n",
       "      <td>23.3</td>\n",
       "      <td>0.672</td>\n",
       "      <td>32</td>\n",
       "      <td>1</td>\n",
       "    </tr>\n",
       "    <tr>\n",
       "      <th>3</th>\n",
       "      <td>3</td>\n",
       "      <td>1</td>\n",
       "      <td>89</td>\n",
       "      <td>66</td>\n",
       "      <td>23</td>\n",
       "      <td>94</td>\n",
       "      <td>28.1</td>\n",
       "      <td>0.167</td>\n",
       "      <td>21</td>\n",
       "      <td>0</td>\n",
       "    </tr>\n",
       "    <tr>\n",
       "      <th>4</th>\n",
       "      <td>4</td>\n",
       "      <td>0</td>\n",
       "      <td>137</td>\n",
       "      <td>40</td>\n",
       "      <td>35</td>\n",
       "      <td>168</td>\n",
       "      <td>43.1</td>\n",
       "      <td>2.288</td>\n",
       "      <td>33</td>\n",
       "      <td>1</td>\n",
       "    </tr>\n",
       "    <tr>\n",
       "      <th>...</th>\n",
       "      <td>...</td>\n",
       "      <td>...</td>\n",
       "      <td>...</td>\n",
       "      <td>...</td>\n",
       "      <td>...</td>\n",
       "      <td>...</td>\n",
       "      <td>...</td>\n",
       "      <td>...</td>\n",
       "      <td>...</td>\n",
       "      <td>...</td>\n",
       "    </tr>\n",
       "    <tr>\n",
       "      <th>763</th>\n",
       "      <td>763</td>\n",
       "      <td>10</td>\n",
       "      <td>101</td>\n",
       "      <td>76</td>\n",
       "      <td>48</td>\n",
       "      <td>180</td>\n",
       "      <td>32.9</td>\n",
       "      <td>0.171</td>\n",
       "      <td>63</td>\n",
       "      <td>0</td>\n",
       "    </tr>\n",
       "    <tr>\n",
       "      <th>764</th>\n",
       "      <td>764</td>\n",
       "      <td>2</td>\n",
       "      <td>122</td>\n",
       "      <td>70</td>\n",
       "      <td>27</td>\n",
       "      <td>0</td>\n",
       "      <td>36.8</td>\n",
       "      <td>0.340</td>\n",
       "      <td>27</td>\n",
       "      <td>0</td>\n",
       "    </tr>\n",
       "    <tr>\n",
       "      <th>765</th>\n",
       "      <td>765</td>\n",
       "      <td>5</td>\n",
       "      <td>121</td>\n",
       "      <td>72</td>\n",
       "      <td>23</td>\n",
       "      <td>112</td>\n",
       "      <td>26.2</td>\n",
       "      <td>0.245</td>\n",
       "      <td>30</td>\n",
       "      <td>0</td>\n",
       "    </tr>\n",
       "    <tr>\n",
       "      <th>766</th>\n",
       "      <td>766</td>\n",
       "      <td>1</td>\n",
       "      <td>126</td>\n",
       "      <td>60</td>\n",
       "      <td>0</td>\n",
       "      <td>0</td>\n",
       "      <td>30.1</td>\n",
       "      <td>0.349</td>\n",
       "      <td>47</td>\n",
       "      <td>1</td>\n",
       "    </tr>\n",
       "    <tr>\n",
       "      <th>767</th>\n",
       "      <td>767</td>\n",
       "      <td>1</td>\n",
       "      <td>93</td>\n",
       "      <td>70</td>\n",
       "      <td>31</td>\n",
       "      <td>0</td>\n",
       "      <td>30.4</td>\n",
       "      <td>0.315</td>\n",
       "      <td>23</td>\n",
       "      <td>0</td>\n",
       "    </tr>\n",
       "  </tbody>\n",
       "</table>\n",
       "<p>768 rows × 10 columns</p>\n",
       "</div>"
      ],
      "text/plain": [
       "     Unnamed: 0  Pregnancies  Glucose  BloodPressure  SkinThickness  Insulin  \\\n",
       "0             0            6      148             72             35        0   \n",
       "1             1            1       85             66             29        0   \n",
       "2             2            8      183             64              0        0   \n",
       "3             3            1       89             66             23       94   \n",
       "4             4            0      137             40             35      168   \n",
       "..          ...          ...      ...            ...            ...      ...   \n",
       "763         763           10      101             76             48      180   \n",
       "764         764            2      122             70             27        0   \n",
       "765         765            5      121             72             23      112   \n",
       "766         766            1      126             60              0        0   \n",
       "767         767            1       93             70             31        0   \n",
       "\n",
       "      BMI  DiabetesPedigreeFunction  Age  Outcome  \n",
       "0    33.6                     0.627   50        1  \n",
       "1    26.6                     0.351   31        0  \n",
       "2    23.3                     0.672   32        1  \n",
       "3    28.1                     0.167   21        0  \n",
       "4    43.1                     2.288   33        1  \n",
       "..    ...                       ...  ...      ...  \n",
       "763  32.9                     0.171   63        0  \n",
       "764  36.8                     0.340   27        0  \n",
       "765  26.2                     0.245   30        0  \n",
       "766  30.1                     0.349   47        1  \n",
       "767  30.4                     0.315   23        0  \n",
       "\n",
       "[768 rows x 10 columns]"
      ]
     },
     "execution_count": 14,
     "metadata": {},
     "output_type": "execute_result"
    }
   ],
   "source": [
    "data = pd.read_csv('ENCS5141_Exp3_Diabetes.csv')\n",
    "data"
   ]
  },
  {
   "cell_type": "code",
   "execution_count": 15,
   "metadata": {},
   "outputs": [],
   "source": [
    "X = data.drop('Outcome', axis=1)  # Assuming 'target' is the name of the column to predict\n",
    "y = data['Outcome']\n",
    "X_train, X_test, y_train, y_test = train_test_split(X, y, test_size=0.2, random_state=42)"
   ]
  },
  {
   "cell_type": "code",
   "execution_count": 16,
   "metadata": {},
   "outputs": [
    {
     "name": "stdout",
     "output_type": "stream",
     "text": [
      "Testing Accuracy with Variance Threshold: 71.43%\n"
     ]
    }
   ],
   "source": [
    "from sklearn.feature_selection import VarianceThreshold\n",
    "\n",
    "# Applying Variance Threshold\n",
    "selector_var = VarianceThreshold(threshold=0.8)\n",
    "X_train_var = selector_var.fit_transform(X_train)\n",
    "X_test_var = selector_var.transform(X_test)\n",
    "\n",
    "# Training and Testing Random Forest\n",
    "rf_var = RandomForestClassifier(random_state=42)\n",
    "rf_var.fit(X_train_var, y_train)\n",
    "y_pred_var = rf_var.predict(X_test_var)\n",
    "accuracy_var = accuracy_score(y_test, y_pred_var)\n",
    "print(f'Testing Accuracy with Variance Threshold: {accuracy_var * 100:.2f}%')\n"
   ]
  },
  {
   "cell_type": "code",
   "execution_count": 17,
   "metadata": {},
   "outputs": [
    {
     "name": "stdout",
     "output_type": "stream",
     "text": [
      "Testing Accuracy with Information Gain: 74.03%\n"
     ]
    }
   ],
   "source": [
    "from sklearn.feature_selection import mutual_info_classif\n",
    "\n",
    "# Calculating Information Gain\n",
    "info_gain = mutual_info_classif(X_train, y_train)\n",
    "info_gain_features = info_gain >= np.median(info_gain)  # Assuming median as the threshold\n",
    "\n",
    "# Selecting features based on Information Gain\n",
    "X_train_ig = X_train.loc[:, info_gain_features]\n",
    "X_test_ig = X_test.loc[:, info_gain_features]\n",
    "\n",
    "# Training and Testing Random Forest\n",
    "rf_ig = RandomForestClassifier(random_state=42)\n",
    "rf_ig.fit(X_train_ig, y_train)\n",
    "y_pred_ig = rf_ig.predict(X_test_ig)\n",
    "accuracy_ig = accuracy_score(y_test, y_pred_ig)\n",
    "print(f'Testing Accuracy with Information Gain: {accuracy_ig * 100:.2f}%')\n"
   ]
  },
  {
   "cell_type": "code",
   "execution_count": 18,
   "metadata": {},
   "outputs": [
    {
     "name": "stdout",
     "output_type": "stream",
     "text": [
      "Testing Accuracy with Chi-Squared Test: 75.32%\n"
     ]
    }
   ],
   "source": [
    "from sklearn.feature_selection import chi2, SelectKBest\n",
    "\n",
    "# Applying Chi-Squared Test\n",
    "selector_chi2 = SelectKBest(chi2, k='all')  # Assuming top 10 features to select\n",
    "X_train_chi2 = selector_chi2.fit_transform(X_train, y_train)\n",
    "X_test_chi2 = selector_chi2.transform(X_test)\n",
    "\n",
    "# Training and Testing Random Forest\n",
    "rf_chi2 = RandomForestClassifier(random_state=42)\n",
    "rf_chi2.fit(X_train_chi2, y_train)\n",
    "y_pred_chi2 = rf_chi2.predict(X_test_chi2)\n",
    "accuracy_chi2 = accuracy_score(y_test, y_pred_chi2)\n",
    "print(f'Testing Accuracy with Chi-Squared Test: {accuracy_chi2 * 100:.2f}%')\n"
   ]
  },
  {
   "cell_type": "code",
   "execution_count": 19,
   "metadata": {},
   "outputs": [
    {
     "name": "stdout",
     "output_type": "stream",
     "text": [
      "Testing Accuracy with Correlation Coefficient: 75.32%\n"
     ]
    }
   ],
   "source": [
    "# Selecting features based on correlation\n",
    "correlation_matrix = X_train.corr().abs()\n",
    "upper_triangle = correlation_matrix.where(np.triu(np.ones(correlation_matrix.shape), k=1).astype(bool))\n",
    "to_drop = [column for column in upper_triangle.columns if any(upper_triangle[column] > 0.95)]  # Assuming 0.95 as the correlation threshold\n",
    "\n",
    "# Dropping correlated features\n",
    "X_train_corr = X_train.drop(to_drop, axis=1)\n",
    "X_test_corr = X_test.drop(to_drop, axis=1)\n",
    "\n",
    "# Training and Testing Random Forest\n",
    "rf_corr = RandomForestClassifier(random_state=42)\n",
    "rf_corr.fit(X_train_corr, y_train)\n",
    "y_pred_corr = rf_corr.predict(X_test_corr)\n",
    "accuracy_corr = accuracy_score(y_test, y_pred_corr)\n",
    "print(f'Testing Accuracy with Correlation Coefficient: {accuracy_corr * 100:.2f}%')\n"
   ]
  },
  {
   "cell_type": "markdown",
   "metadata": {
    "id": "UzrzNdSYKiqc"
   },
   "source": [
    "\n",
    "#3.2 Data Transformation\n"
   ]
  },
  {
   "cell_type": "markdown",
   "metadata": {
    "id": "fPwH-Cv7LijH"
   },
   "source": [
    "Data Transformation is a crucial step in the data preprocessing phase of machine learning. It involves a series of operations aimed at preparing raw data into a format that is suitable for training and evaluating machine learning models. Data transformation encompasses several key processes, including scaling, normalization, discretization, and encoding, each serving its purpose in enhancing the quality and usability of the data. Here's a description of these data transformation techniques:\n",
    "\n",
    "- **Scaling**: This method involves transforming numerical features to a common scale without changing their relative relationships. This is particularly important for algorithms that are sensitive to the magnitude of features. Scaling is applied to ensure that no single feature dominates the learning process due to its larger magnitude. The Min-Max scaling is a commonly used method in which features are scaled to a specific range, often [0, 1]. The standardization is another type of scaling that transforms numerical features to have a a zero mean and unity variance (mean=0, standard deviation=1).\n",
    "\n",
    "- **Discretization**: This method involves converting continuous numerical data into discrete categories or bins. This is particularly useful when you want to transform numeric data into categorical or ordinal data. Discretization can simplify complex numerical data and make it suitable for algorithms that work with categorical or ordinal features. Some common techniques include equal-width binning (dividing the data into equal-width intervals) and equal-frequency binning (ensuring each bin contains approximately the same number of data points).\n",
    "\n",
    "- **Encoding**: Encoding is the process of converting categorical data (text or labels) into a numerical format that machine learning models can understand. It allows algorithms to work with non-numeric data Some common encoding methods include **one-hot encoding** (creating binary columns for each category), **label encoding** (assigning a unique integer to each category), and **ordinal encoding** (mapping ordinal categories to numerical values)."
   ]
  },
  {
   "cell_type": "markdown",
   "metadata": {
    "id": "cSjUJUxTOkY1"
   },
   "source": [
    "## 3.2.1 Scaling"
   ]
  },
  {
   "cell_type": "markdown",
   "metadata": {
    "id": "kOxE-CruoGm1"
   },
   "source": [
    "To demonstrate the Scaling method, let us start with synthetic data as presented in the code snippet below."
   ]
  },
  {
   "cell_type": "code",
   "execution_count": 20,
   "metadata": {
    "colab": {
     "base_uri": "https://localhost:8080/",
     "height": 206
    },
    "id": "8TK6gRX5OvlC",
    "outputId": "b5d1c7af-10d1-4d23-bf48-ac248470e568"
   },
   "outputs": [
    {
     "data": {
      "text/html": [
       "<div>\n",
       "<style scoped>\n",
       "    .dataframe tbody tr th:only-of-type {\n",
       "        vertical-align: middle;\n",
       "    }\n",
       "\n",
       "    .dataframe tbody tr th {\n",
       "        vertical-align: top;\n",
       "    }\n",
       "\n",
       "    .dataframe thead th {\n",
       "        text-align: right;\n",
       "    }\n",
       "</style>\n",
       "<table border=\"1\" class=\"dataframe\">\n",
       "  <thead>\n",
       "    <tr style=\"text-align: right;\">\n",
       "      <th></th>\n",
       "      <th>A</th>\n",
       "      <th>B</th>\n",
       "      <th>C</th>\n",
       "      <th>D</th>\n",
       "    </tr>\n",
       "  </thead>\n",
       "  <tbody>\n",
       "    <tr>\n",
       "      <th>0</th>\n",
       "      <td>-1.788865</td>\n",
       "      <td>-3.114691</td>\n",
       "      <td>0.422741</td>\n",
       "      <td>5.336929</td>\n",
       "    </tr>\n",
       "    <tr>\n",
       "      <th>1</th>\n",
       "      <td>0.590146</td>\n",
       "      <td>3.687261</td>\n",
       "      <td>0.043637</td>\n",
       "      <td>0.734984</td>\n",
       "    </tr>\n",
       "    <tr>\n",
       "      <th>2</th>\n",
       "      <td>-0.939418</td>\n",
       "      <td>4.294528</td>\n",
       "      <td>0.698930</td>\n",
       "      <td>7.297136</td>\n",
       "    </tr>\n",
       "    <tr>\n",
       "      <th>3</th>\n",
       "      <td>1.354040</td>\n",
       "      <td>-4.595213</td>\n",
       "      <td>0.730357</td>\n",
       "      <td>1.409427</td>\n",
       "    </tr>\n",
       "    <tr>\n",
       "      <th>4</th>\n",
       "      <td>1.707071</td>\n",
       "      <td>6.786435</td>\n",
       "      <td>0.277374</td>\n",
       "      <td>9.030500</td>\n",
       "    </tr>\n",
       "  </tbody>\n",
       "</table>\n",
       "</div>"
      ],
      "text/plain": [
       "          A         B         C         D\n",
       "0 -1.788865 -3.114691  0.422741  5.336929\n",
       "1  0.590146  3.687261  0.043637  0.734984\n",
       "2 -0.939418  4.294528  0.698930  7.297136\n",
       "3  1.354040 -4.595213  0.730357  1.409427\n",
       "4  1.707071  6.786435  0.277374  9.030500"
      ]
     },
     "execution_count": 20,
     "metadata": {},
     "output_type": "execute_result"
    }
   ],
   "source": [
    "import numpy as np\n",
    "import pandas as pd\n",
    "\n",
    "#To generate an array of floating numbers between -2 and 2\n",
    "A = np.random.random(1000)*4 - 2\n",
    "\n",
    "#To generate an array of floating numbers between -10 and 10\n",
    "B = np.random.random(1000)*20 - 10\n",
    "\n",
    "#To generate an array of floating numbers between 0 and 1\n",
    "C = np.random.random(1000)\n",
    "\n",
    "#To generate an array of floating numbers between 0 and 10\n",
    "D = np.random.random(1000)*10\n",
    "\n",
    "df = pd.DataFrame({'A':A,'B':B,'C':C,'D':D})\n",
    "df.head()"
   ]
  },
  {
   "cell_type": "markdown",
   "metadata": {
    "id": "xFoLXxSSbJ8r"
   },
   "source": [
    "Let's also display some statistics about this synthetic data."
   ]
  },
  {
   "cell_type": "code",
   "execution_count": 21,
   "metadata": {
    "colab": {
     "base_uri": "https://localhost:8080/",
     "height": 300
    },
    "id": "66NXIgM4bKhh",
    "outputId": "907e249c-6996-48b6-f53c-ecea6351ffa7"
   },
   "outputs": [
    {
     "data": {
      "text/html": [
       "<div>\n",
       "<style scoped>\n",
       "    .dataframe tbody tr th:only-of-type {\n",
       "        vertical-align: middle;\n",
       "    }\n",
       "\n",
       "    .dataframe tbody tr th {\n",
       "        vertical-align: top;\n",
       "    }\n",
       "\n",
       "    .dataframe thead th {\n",
       "        text-align: right;\n",
       "    }\n",
       "</style>\n",
       "<table border=\"1\" class=\"dataframe\">\n",
       "  <thead>\n",
       "    <tr style=\"text-align: right;\">\n",
       "      <th></th>\n",
       "      <th>A</th>\n",
       "      <th>B</th>\n",
       "      <th>C</th>\n",
       "      <th>D</th>\n",
       "    </tr>\n",
       "  </thead>\n",
       "  <tbody>\n",
       "    <tr>\n",
       "      <th>count</th>\n",
       "      <td>1000.000000</td>\n",
       "      <td>1000.000000</td>\n",
       "      <td>1000.000000</td>\n",
       "      <td>1000.000000</td>\n",
       "    </tr>\n",
       "    <tr>\n",
       "      <th>mean</th>\n",
       "      <td>-0.017006</td>\n",
       "      <td>-0.061507</td>\n",
       "      <td>0.511716</td>\n",
       "      <td>5.193777</td>\n",
       "    </tr>\n",
       "    <tr>\n",
       "      <th>std</th>\n",
       "      <td>1.182909</td>\n",
       "      <td>5.792076</td>\n",
       "      <td>0.283277</td>\n",
       "      <td>2.949653</td>\n",
       "    </tr>\n",
       "    <tr>\n",
       "      <th>min</th>\n",
       "      <td>-1.996350</td>\n",
       "      <td>-9.981798</td>\n",
       "      <td>0.000340</td>\n",
       "      <td>0.005339</td>\n",
       "    </tr>\n",
       "    <tr>\n",
       "      <th>25%</th>\n",
       "      <td>-1.080030</td>\n",
       "      <td>-5.121510</td>\n",
       "      <td>0.274872</td>\n",
       "      <td>2.589018</td>\n",
       "    </tr>\n",
       "    <tr>\n",
       "      <th>50%</th>\n",
       "      <td>-0.038847</td>\n",
       "      <td>0.027998</td>\n",
       "      <td>0.515130</td>\n",
       "      <td>5.481921</td>\n",
       "    </tr>\n",
       "    <tr>\n",
       "      <th>75%</th>\n",
       "      <td>1.024212</td>\n",
       "      <td>5.021895</td>\n",
       "      <td>0.741289</td>\n",
       "      <td>7.715474</td>\n",
       "    </tr>\n",
       "    <tr>\n",
       "      <th>max</th>\n",
       "      <td>1.998617</td>\n",
       "      <td>9.982196</td>\n",
       "      <td>0.999941</td>\n",
       "      <td>9.997657</td>\n",
       "    </tr>\n",
       "  </tbody>\n",
       "</table>\n",
       "</div>"
      ],
      "text/plain": [
       "                 A            B            C            D\n",
       "count  1000.000000  1000.000000  1000.000000  1000.000000\n",
       "mean     -0.017006    -0.061507     0.511716     5.193777\n",
       "std       1.182909     5.792076     0.283277     2.949653\n",
       "min      -1.996350    -9.981798     0.000340     0.005339\n",
       "25%      -1.080030    -5.121510     0.274872     2.589018\n",
       "50%      -0.038847     0.027998     0.515130     5.481921\n",
       "75%       1.024212     5.021895     0.741289     7.715474\n",
       "max       1.998617     9.982196     0.999941     9.997657"
      ]
     },
     "execution_count": 21,
     "metadata": {},
     "output_type": "execute_result"
    }
   ],
   "source": [
    "df.describe()"
   ]
  },
  {
   "cell_type": "markdown",
   "metadata": {
    "id": "5A-wlhH3awVb"
   },
   "source": [
    "As can be observed, the range of values for each feature is different. To scale the data, we will use the **MinMaxScaler()** from sklearn. This method takes the intended minimum and maximum values of the scaled data as a tuple argument (min, max), which is set to (0, 1) by default."
   ]
  },
  {
   "cell_type": "code",
   "execution_count": 22,
   "metadata": {
    "colab": {
     "base_uri": "https://localhost:8080/",
     "height": 300
    },
    "id": "FoSCR9URa-bS",
    "outputId": "3f74aba0-b0a0-4e55-d3c6-8def1878276d"
   },
   "outputs": [
    {
     "data": {
      "text/html": [
       "<div>\n",
       "<style scoped>\n",
       "    .dataframe tbody tr th:only-of-type {\n",
       "        vertical-align: middle;\n",
       "    }\n",
       "\n",
       "    .dataframe tbody tr th {\n",
       "        vertical-align: top;\n",
       "    }\n",
       "\n",
       "    .dataframe thead th {\n",
       "        text-align: right;\n",
       "    }\n",
       "</style>\n",
       "<table border=\"1\" class=\"dataframe\">\n",
       "  <thead>\n",
       "    <tr style=\"text-align: right;\">\n",
       "      <th></th>\n",
       "      <th>A</th>\n",
       "      <th>B</th>\n",
       "      <th>C</th>\n",
       "      <th>D</th>\n",
       "    </tr>\n",
       "  </thead>\n",
       "  <tbody>\n",
       "    <tr>\n",
       "      <th>count</th>\n",
       "      <td>1000.000000</td>\n",
       "      <td>1000.000000</td>\n",
       "      <td>1000.000000</td>\n",
       "      <td>1000.000000</td>\n",
       "    </tr>\n",
       "    <tr>\n",
       "      <th>mean</th>\n",
       "      <td>0.495459</td>\n",
       "      <td>0.496909</td>\n",
       "      <td>0.511580</td>\n",
       "      <td>0.519243</td>\n",
       "    </tr>\n",
       "    <tr>\n",
       "      <th>std</th>\n",
       "      <td>0.296100</td>\n",
       "      <td>0.290126</td>\n",
       "      <td>0.283390</td>\n",
       "      <td>0.295192</td>\n",
       "    </tr>\n",
       "    <tr>\n",
       "      <th>min</th>\n",
       "      <td>0.000000</td>\n",
       "      <td>0.000000</td>\n",
       "      <td>0.000000</td>\n",
       "      <td>0.000000</td>\n",
       "    </tr>\n",
       "    <tr>\n",
       "      <th>25%</th>\n",
       "      <td>0.229369</td>\n",
       "      <td>0.243453</td>\n",
       "      <td>0.274642</td>\n",
       "      <td>0.258567</td>\n",
       "    </tr>\n",
       "    <tr>\n",
       "      <th>50%</th>\n",
       "      <td>0.489992</td>\n",
       "      <td>0.501392</td>\n",
       "      <td>0.514996</td>\n",
       "      <td>0.548079</td>\n",
       "    </tr>\n",
       "    <tr>\n",
       "      <th>75%</th>\n",
       "      <td>0.756092</td>\n",
       "      <td>0.751538</td>\n",
       "      <td>0.741245</td>\n",
       "      <td>0.771606</td>\n",
       "    </tr>\n",
       "    <tr>\n",
       "      <th>max</th>\n",
       "      <td>1.000000</td>\n",
       "      <td>1.000000</td>\n",
       "      <td>1.000000</td>\n",
       "      <td>1.000000</td>\n",
       "    </tr>\n",
       "  </tbody>\n",
       "</table>\n",
       "</div>"
      ],
      "text/plain": [
       "                 A            B            C            D\n",
       "count  1000.000000  1000.000000  1000.000000  1000.000000\n",
       "mean      0.495459     0.496909     0.511580     0.519243\n",
       "std       0.296100     0.290126     0.283390     0.295192\n",
       "min       0.000000     0.000000     0.000000     0.000000\n",
       "25%       0.229369     0.243453     0.274642     0.258567\n",
       "50%       0.489992     0.501392     0.514996     0.548079\n",
       "75%       0.756092     0.751538     0.741245     0.771606\n",
       "max       1.000000     1.000000     1.000000     1.000000"
      ]
     },
     "execution_count": 22,
     "metadata": {},
     "output_type": "execute_result"
    }
   ],
   "source": [
    "from sklearn.preprocessing import MinMaxScaler\n",
    "scaler = MinMaxScaler()\n",
    "scaler.fit(df)\n",
    "data = scaler.transform(df)\n",
    "df_scaler = pd.DataFrame(data,columns=list('ABCD'))\n",
    "df_scaler.describe()"
   ]
  },
  {
   "cell_type": "markdown",
   "metadata": {
    "id": "2MXlEvdcfNtE"
   },
   "source": [
    "After scaling, all features are scaled between 0 and 1. Let's plot the distribution of the original and scaled data."
   ]
  },
  {
   "cell_type": "code",
   "execution_count": 23,
   "metadata": {
    "colab": {
     "base_uri": "https://localhost:8080/",
     "height": 487
    },
    "id": "nFk0vmeFgPxR",
    "outputId": "df8ea28a-dffe-464f-c819-bb8cae761518"
   },
   "outputs": [
    {
     "data": {
      "image/png": "[encoded data removed]",
      "text/plain": [
       "<Figure size 1800x500 with 8 Axes>"
      ]
     },
     "metadata": {},
     "output_type": "display_data"
    }
   ],
   "source": [
    "import matplotlib.pyplot as plt\n",
    "import seaborn as sns\n",
    "fig, axs = plt.subplots(figsize=(18, 5),ncols=4,nrows=2)\n",
    "\n",
    "sns.histplot(data=df, x=\"A\", ax=axs[0,0], kde=True);axs[0,0].set_title(f\"Original A\")\n",
    "sns.histplot(data=df, x=\"B\", ax=axs[0,1], kde=True);axs[0,1].set_title(f\"Original B\")\n",
    "sns.histplot(data=df, x=\"C\", ax=axs[0,2], kde=True);axs[0,2].set_title(f\"Original C\")\n",
    "sns.histplot(data=df, x=\"D\", ax=axs[0,3], kde=True);axs[0,3].set_title(f\"Original D\")\n",
    "\n",
    "sns.histplot(data=df_scaler, x=\"A\", ax=axs[1,0], kde=True);axs[1,0].set_title(f\"Scalled A\")\n",
    "sns.histplot(data=df_scaler, x=\"B\", ax=axs[1,1], kde=True);axs[1,1].set_title(f\"Scalled B\")\n",
    "sns.histplot(data=df_scaler, x=\"C\", ax=axs[1,2], kde=True);axs[1,2].set_title(f\"Scalled C\")\n",
    "sns.histplot(data=df_scaler, x=\"D\", ax=axs[1,3], kde=True);axs[1,3].set_title(f\"Scalled D\")\n",
    "\n",
    "fig.subplots_adjust(hspace=1)"
   ]
  },
  {
   "cell_type": "markdown",
   "metadata": {
    "id": "XB2qyC4AhTaz"
   },
   "source": [
    "The histogram plots illustrate that scaling did not alter the distribution of the features but did affect the range of their values."
   ]
  },
  {
   "cell_type": "markdown",
   "metadata": {
    "id": "jwRHE-UIlj4W"
   },
   "source": [
    "To illustrate the significance of feature scaling in many machine learning scenarios, consider the data within the **ENCS5141_Exp3_Mall_Customers.csv** file, available in the GitHub repository at https://github.com/mkjubran/ENCS5141Datasets. This dataset includes the annual income and spending score of numerous mall customers. As before, we will initiate by cloning the GitHub repository. You may skip this step if the repository has already been cloned"
   ]
  },
  {
   "cell_type": "code",
   "execution_count": 24,
   "metadata": {
    "colab": {
     "base_uri": "https://localhost:8080/"
    },
    "id": "NUFmR5O5okNT",
    "outputId": "fdd9049c-a73c-43f1-c0b6-13c48661a8d2"
   },
   "outputs": [
    {
     "name": "stderr",
     "output_type": "stream",
     "text": [
      "'rm' is not recognized as an internal or external command,\n",
      "operable program or batch file.\n",
      "fatal: destination path 'ENCS5141Datasets' already exists and is not an empty directory.\n"
     ]
    }
   ],
   "source": [
    "!rm -rf ./ENCS5141Datasets\n",
    "!git clone https://github.com/mkjubran/ENCS5141Datasets.git"
   ]
  },
  {
   "cell_type": "markdown",
   "metadata": {
    "id": "I-Iw5rNpoozk"
   },
   "source": [
    "To read the file and display information about the features run the following code"
   ]
  },
  {
   "cell_type": "code",
   "execution_count": 25,
   "metadata": {
    "colab": {
     "base_uri": "https://localhost:8080/",
     "height": 300
    },
    "id": "_IQozrgrowk3",
    "outputId": "a8466d12-839d-4ce8-dd7a-40e3138dffa2"
   },
   "outputs": [
    {
     "data": {
      "text/html": [
       "<div>\n",
       "<style scoped>\n",
       "    .dataframe tbody tr th:only-of-type {\n",
       "        vertical-align: middle;\n",
       "    }\n",
       "\n",
       "    .dataframe tbody tr th {\n",
       "        vertical-align: top;\n",
       "    }\n",
       "\n",
       "    .dataframe thead th {\n",
       "        text-align: right;\n",
       "    }\n",
       "</style>\n",
       "<table border=\"1\" class=\"dataframe\">\n",
       "  <thead>\n",
       "    <tr style=\"text-align: right;\">\n",
       "      <th></th>\n",
       "      <th>Annual Income</th>\n",
       "      <th>Spending Score</th>\n",
       "    </tr>\n",
       "  </thead>\n",
       "  <tbody>\n",
       "    <tr>\n",
       "      <th>count</th>\n",
       "      <td>30.000000</td>\n",
       "      <td>30.000000</td>\n",
       "    </tr>\n",
       "    <tr>\n",
       "      <th>mean</th>\n",
       "      <td>21433.333333</td>\n",
       "      <td>50.866667</td>\n",
       "    </tr>\n",
       "    <tr>\n",
       "      <th>std</th>\n",
       "      <td>4452.301484</td>\n",
       "      <td>33.053492</td>\n",
       "    </tr>\n",
       "    <tr>\n",
       "      <th>min</th>\n",
       "      <td>15000.000000</td>\n",
       "      <td>3.000000</td>\n",
       "    </tr>\n",
       "    <tr>\n",
       "      <th>25%</th>\n",
       "      <td>18250.000000</td>\n",
       "      <td>18.500000</td>\n",
       "    </tr>\n",
       "    <tr>\n",
       "      <th>50%</th>\n",
       "      <td>20000.000000</td>\n",
       "      <td>53.500000</td>\n",
       "    </tr>\n",
       "    <tr>\n",
       "      <th>75%</th>\n",
       "      <td>24750.000000</td>\n",
       "      <td>78.500000</td>\n",
       "    </tr>\n",
       "    <tr>\n",
       "      <th>max</th>\n",
       "      <td>29000.000000</td>\n",
       "      <td>99.000000</td>\n",
       "    </tr>\n",
       "  </tbody>\n",
       "</table>\n",
       "</div>"
      ],
      "text/plain": [
       "       Annual Income  Spending Score\n",
       "count      30.000000       30.000000\n",
       "mean    21433.333333       50.866667\n",
       "std      4452.301484       33.053492\n",
       "min     15000.000000        3.000000\n",
       "25%     18250.000000       18.500000\n",
       "50%     20000.000000       53.500000\n",
       "75%     24750.000000       78.500000\n",
       "max     29000.000000       99.000000"
      ]
     },
     "execution_count": 25,
     "metadata": {},
     "output_type": "execute_result"
    }
   ],
   "source": [
    "import pandas as pd\n",
    "df = pd.read_csv(\"ENCS5141_Exp3_Mall_Customers.csv\", index_col=0)\n",
    "df.describe()"
   ]
  },
  {
   "cell_type": "markdown",
   "metadata": {
    "id": "XQKtW0oNqIys"
   },
   "source": [
    "As can be observed, the Annual Income feature has a range in the thousands, whereas the Spending Score is in tens."
   ]
  },
  {
   "cell_type": "markdown",
   "metadata": {
    "id": "yFGd2yjMiCl6"
   },
   "source": [
    "To investigate the impact of the scalling on machine learning, we will compare the performance of the machine learning models with and without feature scalling. In this context, we will use the K-Means classifier to cluster the data into groups. The classifier will be discussed in detail in subsequent experimental sessions."
   ]
  },
  {
   "cell_type": "code",
   "execution_count": 26,
   "metadata": {
    "colab": {
     "base_uri": "https://localhost:8080/",
     "height": 293
    },
    "id": "Hwhj8OiitH5q",
    "outputId": "077432ac-0aae-4002-d9ba-4c5ff3f1c781"
   },
   "outputs": [
    {
     "data": {
      "text/html": [
       "<div>\n",
       "<style scoped>\n",
       "    .dataframe tbody tr th:only-of-type {\n",
       "        vertical-align: middle;\n",
       "    }\n",
       "\n",
       "    .dataframe tbody tr th {\n",
       "        vertical-align: top;\n",
       "    }\n",
       "\n",
       "    .dataframe thead th {\n",
       "        text-align: right;\n",
       "    }\n",
       "</style>\n",
       "<table border=\"1\" class=\"dataframe\">\n",
       "  <thead>\n",
       "    <tr style=\"text-align: right;\">\n",
       "      <th></th>\n",
       "      <th>Annual Income</th>\n",
       "      <th>Spending Score</th>\n",
       "      <th>cluster</th>\n",
       "    </tr>\n",
       "    <tr>\n",
       "      <th>CustomerID</th>\n",
       "      <th></th>\n",
       "      <th></th>\n",
       "      <th></th>\n",
       "    </tr>\n",
       "  </thead>\n",
       "  <tbody>\n",
       "    <tr>\n",
       "      <th>1</th>\n",
       "      <td>15000</td>\n",
       "      <td>30</td>\n",
       "      <td>3</td>\n",
       "    </tr>\n",
       "    <tr>\n",
       "      <th>2</th>\n",
       "      <td>15000</td>\n",
       "      <td>81</td>\n",
       "      <td>3</td>\n",
       "    </tr>\n",
       "    <tr>\n",
       "      <th>3</th>\n",
       "      <td>16000</td>\n",
       "      <td>6</td>\n",
       "      <td>3</td>\n",
       "    </tr>\n",
       "    <tr>\n",
       "      <th>4</th>\n",
       "      <td>16000</td>\n",
       "      <td>77</td>\n",
       "      <td>3</td>\n",
       "    </tr>\n",
       "    <tr>\n",
       "      <th>5</th>\n",
       "      <td>17000</td>\n",
       "      <td>33</td>\n",
       "      <td>3</td>\n",
       "    </tr>\n",
       "  </tbody>\n",
       "</table>\n",
       "</div>"
      ],
      "text/plain": [
       "            Annual Income  Spending Score  cluster\n",
       "CustomerID                                        \n",
       "1                   15000              30        3\n",
       "2                   15000              81        3\n",
       "3                   16000               6        3\n",
       "4                   16000              77        3\n",
       "5                   17000              33        3"
      ]
     },
     "execution_count": 26,
     "metadata": {},
     "output_type": "execute_result"
    }
   ],
   "source": [
    "# Import the KMeans class from the sklearn.cluster module\n",
    "from sklearn.cluster import KMeans\n",
    "\n",
    "# Create a KMeans object with the desired number of clusters (4 in this case)\n",
    "km = KMeans(n_clusters=4)\n",
    "\n",
    "# Fit the KMeans model to the data, using the 'Annual Income' and 'Spending Score' columns as features\n",
    "km.fit(df[['Annual Income', 'Spending Score']])\n",
    "\n",
    "# Predict the cluster labels for each data point based on the fitted model\n",
    "cluster = km.predict(df[['Annual Income', 'Spending Score']])\n",
    "\n",
    "# Create a new column 'cluster' in the DataFrame to store the predicted cluster labels\n",
    "df['cluster'] = cluster\n",
    "\n",
    "# Display the first few rows of the DataFrame with the 'cluster' column added\n",
    "df.head()"
   ]
  },
  {
   "cell_type": "markdown",
   "metadata": {
    "id": "Cc7xc411wHJ8"
   },
   "source": [
    "To visualize the resuls, use the **sns.scatterplot()** as below"
   ]
  },
  {
   "cell_type": "code",
   "execution_count": 27,
   "metadata": {
    "colab": {
     "base_uri": "https://localhost:8080/",
     "height": 467
    },
    "id": "YcucRtS7taen",
    "outputId": "e9dc6be0-b4ce-45e2-d9d0-cf7036cb91cc"
   },
   "outputs": [
    {
     "data": {
      "text/plain": [
       "<AxesSubplot:xlabel='Annual Income', ylabel='Spending Score'>"
      ]
     },
     "execution_count": 27,
     "metadata": {},
     "output_type": "execute_result"
    },
    {
     "data": {
      "image/png": "[encoded data removed]",
      "text/plain": [
       "<Figure size 640x480 with 1 Axes>"
      ]
     },
     "metadata": {},
     "output_type": "display_data"
    }
   ],
   "source": [
    "# Import the seaborn library for data visualization\n",
    "import seaborn as sns\n",
    "\n",
    "# Create a scatter plot:\n",
    "# - x-axis: 'Annual Income'\n",
    "# - y-axis: 'Spending Score'\n",
    "# - 'hue' parameter assigns different colors to data points based on the 'cluster' column\n",
    "# - 'style' parameter assigns different markers/styles to data points based on the 'cluster' column\n",
    "# - 'size' parameter adjusts the size of data points based on the 'cluster' column\n",
    "# - 'palette' parameter defines the color palette used for the plot\n",
    "sns.scatterplot(x=df['Annual Income'], y=df['Spending Score'], hue=df['cluster'], style=df['cluster'], size=df['cluster'], palette='colorblind')"
   ]
  },
  {
   "cell_type": "markdown",
   "metadata": {
    "id": "thqB5VlAws86"
   },
   "source": [
    "From the scatter plot, it's evident that the points are grouped or clustered based on the 'Annual Income' (with values in thousands) and do not take into account the 'Spending Score' feature (with values in tens). Is this an acceptable clustering approach?"
   ]
  },
  {
   "cell_type": "markdown",
   "metadata": {
    "id": "Uj4EViFmxS_W"
   },
   "source": [
    "Let us repeate the classification but after feature scalling."
   ]
  },
  {
   "cell_type": "code",
   "execution_count": 28,
   "metadata": {
    "colab": {
     "base_uri": "https://localhost:8080/",
     "height": 522
    },
    "id": "LjMQcxOgxZSB",
    "outputId": "22a32078-b0b3-443a-97c7-51fd0654e15f"
   },
   "outputs": [
    {
     "data": {
      "text/plain": [
       "<AxesSubplot:xlabel='Annual Income', ylabel='Spending Score'>"
      ]
     },
     "execution_count": 28,
     "metadata": {},
     "output_type": "execute_result"
    },
    {
     "data": {
      "image/png": "[encoded data removed]",
      "text/plain": [
       "<Figure size 640x480 with 1 Axes>"
      ]
     },
     "metadata": {},
     "output_type": "display_data"
    }
   ],
   "source": [
    "# Import the MinMaxScaler class from the sklearn.preprocessing module\n",
    "from sklearn.preprocessing import MinMaxScaler\n",
    "\n",
    "# Import the KMeans class from the sklearn.cluster module\n",
    "from sklearn.cluster import KMeans\n",
    "\n",
    "# Create a MinMaxScaler object\n",
    "scaler = MinMaxScaler()\n",
    "\n",
    "# Fit the scaler to the DataFrame 'df', which computes the minimum and maximum values for scaling\n",
    "scaler.fit(df)\n",
    "\n",
    "# Transform and scale the data in 'df' using the fitted scaler\n",
    "data = scaler.transform(df)\n",
    "\n",
    "# Create a new DataFrame 'df_scaler' to store the scaled data, maintaining column names from 'df'\n",
    "df_scaler = pd.DataFrame(data, columns=df.columns)\n",
    "\n",
    "\n",
    "# Create a KMeans object with the desired number of clusters (4 in this case)\n",
    "km = KMeans(n_clusters=4)\n",
    "\n",
    "# Fit the KMeans model to the data, using the 'Annual Income' and 'Spending Score' columns as features\n",
    "km.fit(df_scaler[['Annual Income', 'Spending Score']])\n",
    "\n",
    "# Predict the cluster labels for each data point based on the fitted model\n",
    "cluster = km.predict(df_scaler[['Annual Income', 'Spending Score']])\n",
    "\n",
    "# Create a new column 'cluster' in the DataFrame to store the predicted cluster labels\n",
    "df_scaler['cluster'] = cluster\n",
    "\n",
    "# Create a scatter plot:\n",
    "# - x-axis: 'Annual Income'\n",
    "# - y-axis: 'Spending Score'\n",
    "# - 'hue' parameter assigns different colors to data points based on the 'cluster' column\n",
    "# - 'style' parameter assigns different markers/styles to data points based on the 'cluster' column\n",
    "# - 'size' parameter adjusts the size of data points based on the 'cluster' column\n",
    "# - 'palette' parameter defines the color palette used for the plot\n",
    "sns.scatterplot(x=df_scaler['Annual Income'], y=df_scaler['Spending Score'], hue=df_scaler['cluster'], style=df_scaler['cluster'], size=df_scaler['cluster'], palette='colorblind')\n"
   ]
  },
  {
   "cell_type": "markdown",
   "metadata": {
    "id": "HM13dnExyIao"
   },
   "source": [
    "**Task 3.5**: Referring to the figure shown above, please provide your observations regarding the clustering of Mall Customers' records both before and after the scaling process."
   ]
  },
  {
   "cell_type": "code",
   "execution_count": 29,
   "metadata": {
    "id": "AQy0t8FOy9mp"
   },
   "outputs": [],
   "source": [
    "#write you code here\n"
   ]
  },
  {
   "cell_type": "markdown",
   "metadata": {
    "id": "3U5PJn1fzGn0"
   },
   "source": [
    "**Task 3.6**: To demonstrate the impact of scaling on machine learning, your task is to cluster the records in the 'tips' dataset based on the **total_bill** and **tip** features, both before and after applying feature scaling.\n",
    "\n",
    "**Note**: The tips dataset contains information about tips received by a waiter over a few months in a restaurant. It has details like how much tip was given, the bill amount, whether the person paying the bill is male or female, if there were smokers in the group, the day of the week, the time of day, and the size of the group.\n",
    "\n",
    "You may load the dataset using the following code snippet."
   ]
  },
  {
   "cell_type": "code",
   "execution_count": 30,
   "metadata": {
    "colab": {
     "base_uri": "https://localhost:8080/"
    },
    "id": "d-gQxE9IzP-_",
    "outputId": "216245f1-3d53-45bf-cc9b-286481515e28"
   },
   "outputs": [
    {
     "name": "stdout",
     "output_type": "stream",
     "text": [
      "<class 'pandas.core.frame.DataFrame'>\n",
      "RangeIndex: 244 entries, 0 to 243\n",
      "Data columns (total 7 columns):\n",
      " #   Column      Non-Null Count  Dtype   \n",
      "---  ------      --------------  -----   \n",
      " 0   total_bill  244 non-null    float64 \n",
      " 1   tip         244 non-null    float64 \n",
      " 2   sex         244 non-null    category\n",
      " 3   smoker      244 non-null    category\n",
      " 4   day         244 non-null    category\n",
      " 5   time        244 non-null    category\n",
      " 6   size        244 non-null    int64   \n",
      "dtypes: category(4), float64(2), int64(1)\n",
      "memory usage: 7.4 KB\n"
     ]
    }
   ],
   "source": [
    "# Load an example dataset\n",
    "tips = sns.load_dataset(\"tips\")\n",
    "tips.info()"
   ]
  },
  {
   "cell_type": "code",
   "execution_count": 31,
   "metadata": {},
   "outputs": [
    {
     "data": {
      "text/html": [
       "<div>\n",
       "<style scoped>\n",
       "    .dataframe tbody tr th:only-of-type {\n",
       "        vertical-align: middle;\n",
       "    }\n",
       "\n",
       "    .dataframe tbody tr th {\n",
       "        vertical-align: top;\n",
       "    }\n",
       "\n",
       "    .dataframe thead th {\n",
       "        text-align: right;\n",
       "    }\n",
       "</style>\n",
       "<table border=\"1\" class=\"dataframe\">\n",
       "  <thead>\n",
       "    <tr style=\"text-align: right;\">\n",
       "      <th></th>\n",
       "      <th>total_bill</th>\n",
       "      <th>tip</th>\n",
       "      <th>sex</th>\n",
       "      <th>smoker</th>\n",
       "      <th>day</th>\n",
       "      <th>time</th>\n",
       "      <th>size</th>\n",
       "      <th>cluster</th>\n",
       "    </tr>\n",
       "  </thead>\n",
       "  <tbody>\n",
       "    <tr>\n",
       "      <th>0</th>\n",
       "      <td>16.99</td>\n",
       "      <td>1.01</td>\n",
       "      <td>Female</td>\n",
       "      <td>No</td>\n",
       "      <td>Sun</td>\n",
       "      <td>Dinner</td>\n",
       "      <td>2</td>\n",
       "      <td>0</td>\n",
       "    </tr>\n",
       "    <tr>\n",
       "      <th>1</th>\n",
       "      <td>10.34</td>\n",
       "      <td>1.66</td>\n",
       "      <td>Male</td>\n",
       "      <td>No</td>\n",
       "      <td>Sun</td>\n",
       "      <td>Dinner</td>\n",
       "      <td>3</td>\n",
       "      <td>0</td>\n",
       "    </tr>\n",
       "    <tr>\n",
       "      <th>2</th>\n",
       "      <td>21.01</td>\n",
       "      <td>3.50</td>\n",
       "      <td>Male</td>\n",
       "      <td>No</td>\n",
       "      <td>Sun</td>\n",
       "      <td>Dinner</td>\n",
       "      <td>3</td>\n",
       "      <td>1</td>\n",
       "    </tr>\n",
       "    <tr>\n",
       "      <th>3</th>\n",
       "      <td>23.68</td>\n",
       "      <td>3.31</td>\n",
       "      <td>Male</td>\n",
       "      <td>No</td>\n",
       "      <td>Sun</td>\n",
       "      <td>Dinner</td>\n",
       "      <td>2</td>\n",
       "      <td>1</td>\n",
       "    </tr>\n",
       "    <tr>\n",
       "      <th>4</th>\n",
       "      <td>24.59</td>\n",
       "      <td>3.61</td>\n",
       "      <td>Female</td>\n",
       "      <td>No</td>\n",
       "      <td>Sun</td>\n",
       "      <td>Dinner</td>\n",
       "      <td>4</td>\n",
       "      <td>1</td>\n",
       "    </tr>\n",
       "  </tbody>\n",
       "</table>\n",
       "</div>"
      ],
      "text/plain": [
       "   total_bill   tip     sex smoker  day    time  size  cluster\n",
       "0       16.99  1.01  Female     No  Sun  Dinner     2        0\n",
       "1       10.34  1.66    Male     No  Sun  Dinner     3        0\n",
       "2       21.01  3.50    Male     No  Sun  Dinner     3        1\n",
       "3       23.68  3.31    Male     No  Sun  Dinner     2        1\n",
       "4       24.59  3.61  Female     No  Sun  Dinner     4        1"
      ]
     },
     "execution_count": 31,
     "metadata": {},
     "output_type": "execute_result"
    }
   ],
   "source": [
    "# Import the KMeans class from the sklearn.cluster module\n",
    "from sklearn.cluster import KMeans\n",
    "\n",
    "# Create a KMeans object with the desired number of clusters (4 in this case)\n",
    "km = KMeans(n_clusters=3)\n",
    "\n",
    "# Fit the KMeans model to the data, using the 'Annual Income' and 'Spending Score' columns as features\n",
    "km.fit(tips[['total_bill', 'tip']])\n",
    "\n",
    "# Predict the cluster labels for each data point based on the fitted model\n",
    "cluster = km.predict(tips[['total_bill', 'tip']])\n",
    "\n",
    "# Create a new column 'cluster' in the DataFrame to store the predicted cluster labels\n",
    "tips['cluster'] = cluster\n",
    "\n",
    "# Display the first few rows of the DataFrame with the 'cluster' column added\n",
    "tips.head()"
   ]
  },
  {
   "cell_type": "code",
   "execution_count": 32,
   "metadata": {
    "id": "5pAQIKHh1dY0"
   },
   "outputs": [
    {
     "data": {
      "text/plain": [
       "<AxesSubplot:xlabel='total_bill', ylabel='tip'>"
      ]
     },
     "execution_count": 32,
     "metadata": {},
     "output_type": "execute_result"
    },
    {
     "data": {
      "image/png": "[encoded data removed]",
      "text/plain": [
       "<Figure size 640x480 with 1 Axes>"
      ]
     },
     "metadata": {},
     "output_type": "display_data"
    }
   ],
   "source": [
    "#write you code here\n",
    "\n",
    "sns.scatterplot(x=tips['total_bill'], y=tips['tip'], hue=tips['cluster'], style=tips['cluster'], size=tips['cluster'], palette='colorblind')"
   ]
  },
  {
   "cell_type": "code",
   "execution_count": 33,
   "metadata": {
    "scrolled": true
   },
   "outputs": [
    {
     "data": {
      "text/html": [
       "<div>\n",
       "<style scoped>\n",
       "    .dataframe tbody tr th:only-of-type {\n",
       "        vertical-align: middle;\n",
       "    }\n",
       "\n",
       "    .dataframe tbody tr th {\n",
       "        vertical-align: top;\n",
       "    }\n",
       "\n",
       "    .dataframe thead th {\n",
       "        text-align: right;\n",
       "    }\n",
       "</style>\n",
       "<table border=\"1\" class=\"dataframe\">\n",
       "  <thead>\n",
       "    <tr style=\"text-align: right;\">\n",
       "      <th></th>\n",
       "      <th>total_bill</th>\n",
       "      <th>tip</th>\n",
       "    </tr>\n",
       "  </thead>\n",
       "  <tbody>\n",
       "    <tr>\n",
       "      <th>0</th>\n",
       "      <td>16.99</td>\n",
       "      <td>1.01</td>\n",
       "    </tr>\n",
       "    <tr>\n",
       "      <th>1</th>\n",
       "      <td>10.34</td>\n",
       "      <td>1.66</td>\n",
       "    </tr>\n",
       "    <tr>\n",
       "      <th>2</th>\n",
       "      <td>21.01</td>\n",
       "      <td>3.50</td>\n",
       "    </tr>\n",
       "    <tr>\n",
       "      <th>3</th>\n",
       "      <td>23.68</td>\n",
       "      <td>3.31</td>\n",
       "    </tr>\n",
       "    <tr>\n",
       "      <th>4</th>\n",
       "      <td>24.59</td>\n",
       "      <td>3.61</td>\n",
       "    </tr>\n",
       "    <tr>\n",
       "      <th>...</th>\n",
       "      <td>...</td>\n",
       "      <td>...</td>\n",
       "    </tr>\n",
       "    <tr>\n",
       "      <th>239</th>\n",
       "      <td>29.03</td>\n",
       "      <td>5.92</td>\n",
       "    </tr>\n",
       "    <tr>\n",
       "      <th>240</th>\n",
       "      <td>27.18</td>\n",
       "      <td>2.00</td>\n",
       "    </tr>\n",
       "    <tr>\n",
       "      <th>241</th>\n",
       "      <td>22.67</td>\n",
       "      <td>2.00</td>\n",
       "    </tr>\n",
       "    <tr>\n",
       "      <th>242</th>\n",
       "      <td>17.82</td>\n",
       "      <td>1.75</td>\n",
       "    </tr>\n",
       "    <tr>\n",
       "      <th>243</th>\n",
       "      <td>18.78</td>\n",
       "      <td>3.00</td>\n",
       "    </tr>\n",
       "  </tbody>\n",
       "</table>\n",
       "<p>244 rows × 2 columns</p>\n",
       "</div>"
      ],
      "text/plain": [
       "     total_bill   tip\n",
       "0         16.99  1.01\n",
       "1         10.34  1.66\n",
       "2         21.01  3.50\n",
       "3         23.68  3.31\n",
       "4         24.59  3.61\n",
       "..          ...   ...\n",
       "239       29.03  5.92\n",
       "240       27.18  2.00\n",
       "241       22.67  2.00\n",
       "242       17.82  1.75\n",
       "243       18.78  3.00\n",
       "\n",
       "[244 rows x 2 columns]"
      ]
     },
     "execution_count": 33,
     "metadata": {},
     "output_type": "execute_result"
    }
   ],
   "source": [
    "tips[['total_bill', 'tip']]\n"
   ]
  },
  {
   "cell_type": "code",
   "execution_count": 34,
   "metadata": {},
   "outputs": [
    {
     "data": {
      "text/plain": [
       "<AxesSubplot:xlabel='total_bill', ylabel='tip'>"
      ]
     },
     "execution_count": 34,
     "metadata": {},
     "output_type": "execute_result"
    },
    {
     "data": {
      "image/png": "[encoded data removed]",
      "text/plain": [
       "<Figure size 640x480 with 1 Axes>"
      ]
     },
     "metadata": {},
     "output_type": "display_data"
    }
   ],
   "source": [
    "# Import the MinMaxScaler class from the sklearn.preprocessing module\n",
    "from sklearn.preprocessing import MinMaxScaler\n",
    "\n",
    "# Import the KMeans class from the sklearn.cluster module\n",
    "from sklearn.cluster import KMeans\n",
    "\n",
    "# Create a MinMaxScaler object\n",
    "scaler = MinMaxScaler()\n",
    "\n",
    "# Fit the scaler to the DataFrame 'df', which computes the minimum and maximum values for scaling\n",
    "df= tips[['total_bill', 'tip']]\n",
    "\n",
    "scaler.fit(df)\n",
    "\n",
    "# Transform and scale the data in 'df' using the fitted scaler\n",
    "data = scaler.transform(df)\n",
    "\n",
    "# Create a new DataFrame 'df_scaler' to store the scaled data, maintaining column names from 'df'\n",
    "df_scaler = pd.DataFrame(data, columns=df.columns)\n",
    "\n",
    "\n",
    "# Create a KMeans object with the desired number of clusters (4 in this case)\n",
    "km = KMeans(n_clusters=3)\n",
    "\n",
    "# Fit the KMeans model to the data, using the 'Annual Income' and 'Spending Score' columns as features\n",
    "km.fit(df_scaler[['total_bill', 'tip']])\n",
    "\n",
    "# Predict the cluster labels for each data point based on the fitted model\n",
    "cluster = km.predict(df_scaler[['total_bill', 'tip']])\n",
    "\n",
    "# Create a new column 'cluster' in the DataFrame to store the predicted cluster labels\n",
    "df_scaler['cluster'] = cluster\n",
    "\n",
    "# Create a scatter plot:\n",
    "# - x-axis: 'Annual Income'\n",
    "# - y-axis: 'Spending Score'\n",
    "# - 'hue' parameter assigns different colors to data points based on the 'cluster' column\n",
    "# - 'style' parameter assigns different markers/styles to data points based on the 'cluster' column\n",
    "# - 'size' parameter adjusts the size of data points based on the 'cluster' column\n",
    "# - 'palette' parameter defines the color palette used for the plot\n",
    "sns.scatterplot(x=df_scaler['total_bill'], y=df_scaler['tip'], hue=df_scaler['cluster'], style=df_scaler['cluster'], size=df_scaler['cluster'], palette='colorblind')\n"
   ]
  },
  {
   "cell_type": "markdown",
   "metadata": {
    "id": "q9UpJC3vAlR7"
   },
   "source": [
    "---\n",
    "---\n",
    "\n",
    "<h1><center>Part Two</center></h1>\n",
    "\n",
    "---\n",
    "---\n",
    "\n",
    "## 3.2.2 Discretization\n",
    "\n"
   ]
  },
  {
   "cell_type": "markdown",
   "metadata": {
    "id": "DcpnZqMuoL5o"
   },
   "source": [
    "To demonstrate discretization, we will load the \"fetch_california_housing\" dataset. This dataset is a popular dataset used in machine learning. It contains data related to housing in California, primarily for the purpose of regression analysis. This dataset is often used for tasks such as predicting the median house value for districts in California based on various features. The dataset includes several features that can be used as input variables for regression models. Some of the typical features include median income, average house occupancy, latitude, longitude, and more. The target variable is the median house value for each district. This is the variable that you typically aim to predict in regression tasks."
   ]
  },
  {
   "cell_type": "code",
   "execution_count": 36,
   "metadata": {
    "colab": {
     "base_uri": "https://localhost:8080/",
     "height": 206
    },
    "id": "dQNvN-tSF4Ik",
    "outputId": "1206c002-7b3e-4767-c49a-806038871604"
   },
   "outputs": [
    {
     "data": {
      "text/html": [
       "<div>\n",
       "<style scoped>\n",
       "    .dataframe tbody tr th:only-of-type {\n",
       "        vertical-align: middle;\n",
       "    }\n",
       "\n",
       "    .dataframe tbody tr th {\n",
       "        vertical-align: top;\n",
       "    }\n",
       "\n",
       "    .dataframe thead th {\n",
       "        text-align: right;\n",
       "    }\n",
       "</style>\n",
       "<table border=\"1\" class=\"dataframe\">\n",
       "  <thead>\n",
       "    <tr style=\"text-align: right;\">\n",
       "      <th></th>\n",
       "      <th>MedInc</th>\n",
       "      <th>HouseAge</th>\n",
       "      <th>AveRooms</th>\n",
       "      <th>AveBedrms</th>\n",
       "      <th>Population</th>\n",
       "      <th>AveOccup</th>\n",
       "      <th>Latitude</th>\n",
       "      <th>Longitude</th>\n",
       "      <th>MedHouseVal</th>\n",
       "    </tr>\n",
       "  </thead>\n",
       "  <tbody>\n",
       "    <tr>\n",
       "      <th>0</th>\n",
       "      <td>8.3252</td>\n",
       "      <td>41.0</td>\n",
       "      <td>6.984127</td>\n",
       "      <td>1.023810</td>\n",
       "      <td>322.0</td>\n",
       "      <td>2.555556</td>\n",
       "      <td>37.88</td>\n",
       "      <td>-122.23</td>\n",
       "      <td>4.526</td>\n",
       "    </tr>\n",
       "    <tr>\n",
       "      <th>1</th>\n",
       "      <td>8.3014</td>\n",
       "      <td>21.0</td>\n",
       "      <td>6.238137</td>\n",
       "      <td>0.971880</td>\n",
       "      <td>2401.0</td>\n",
       "      <td>2.109842</td>\n",
       "      <td>37.86</td>\n",
       "      <td>-122.22</td>\n",
       "      <td>3.585</td>\n",
       "    </tr>\n",
       "    <tr>\n",
       "      <th>2</th>\n",
       "      <td>7.2574</td>\n",
       "      <td>52.0</td>\n",
       "      <td>8.288136</td>\n",
       "      <td>1.073446</td>\n",
       "      <td>496.0</td>\n",
       "      <td>2.802260</td>\n",
       "      <td>37.85</td>\n",
       "      <td>-122.24</td>\n",
       "      <td>3.521</td>\n",
       "    </tr>\n",
       "    <tr>\n",
       "      <th>3</th>\n",
       "      <td>5.6431</td>\n",
       "      <td>52.0</td>\n",
       "      <td>5.817352</td>\n",
       "      <td>1.073059</td>\n",
       "      <td>558.0</td>\n",
       "      <td>2.547945</td>\n",
       "      <td>37.85</td>\n",
       "      <td>-122.25</td>\n",
       "      <td>3.413</td>\n",
       "    </tr>\n",
       "    <tr>\n",
       "      <th>4</th>\n",
       "      <td>3.8462</td>\n",
       "      <td>52.0</td>\n",
       "      <td>6.281853</td>\n",
       "      <td>1.081081</td>\n",
       "      <td>565.0</td>\n",
       "      <td>2.181467</td>\n",
       "      <td>37.85</td>\n",
       "      <td>-122.25</td>\n",
       "      <td>3.422</td>\n",
       "    </tr>\n",
       "  </tbody>\n",
       "</table>\n",
       "</div>"
      ],
      "text/plain": [
       "   MedInc  HouseAge  AveRooms  AveBedrms  Population  AveOccup  Latitude  \\\n",
       "0  8.3252      41.0  6.984127   1.023810       322.0  2.555556     37.88   \n",
       "1  8.3014      21.0  6.238137   0.971880      2401.0  2.109842     37.86   \n",
       "2  7.2574      52.0  8.288136   1.073446       496.0  2.802260     37.85   \n",
       "3  5.6431      52.0  5.817352   1.073059       558.0  2.547945     37.85   \n",
       "4  3.8462      52.0  6.281853   1.081081       565.0  2.181467     37.85   \n",
       "\n",
       "   Longitude  MedHouseVal  \n",
       "0    -122.23        4.526  \n",
       "1    -122.22        3.585  \n",
       "2    -122.24        3.521  \n",
       "3    -122.25        3.413  \n",
       "4    -122.25        3.422  "
      ]
     },
     "execution_count": 36,
     "metadata": {},
     "output_type": "execute_result"
    }
   ],
   "source": [
    "from sklearn.datasets import fetch_california_housing\n",
    "X,y = fetch_california_housing(return_X_y= True, as_frame = True)\n",
    "df = pd.concat((X,y), axis=1)\n",
    "df.head()"
   ]
  },
  {
   "cell_type": "markdown",
   "metadata": {
    "id": "QV2lKeQzbTUs"
   },
   "source": [
    "**3.2.2.1 Equal Width Discretiser**\n",
    "\n",
    "Equal Width Discretiser is a data preprocessing technique used in feature engineering to transform continuous numerical data into discrete categories of equal width. This method divides the range of the data into a specified number of bins or intervals, ensuring that each bin has the same width or range."
   ]
  },
  {
   "cell_type": "code",
   "execution_count": 37,
   "metadata": {
    "colab": {
     "base_uri": "https://localhost:8080/"
    },
    "id": "_4dDAc4WYiQj",
    "outputId": "50b36eac-8b3d-4eb5-9428-2e8c6992ca16"
   },
   "outputs": [
    {
     "name": "stdout",
     "output_type": "stream",
     "text": [
      "Requirement already satisfied: feature_engine in c:\\users\\islam\\anaconda3\\lib\\site-packages (1.6.2)\n",
      "Requirement already satisfied: scipy>=1.4.1 in c:\\users\\islam\\anaconda3\\lib\\site-packages (from feature_engine) (1.9.1)\n",
      "Requirement already satisfied: numpy>=1.18.2 in c:\\users\\islam\\anaconda3\\lib\\site-packages (from feature_engine) (1.21.5)\n",
      "Requirement already satisfied: statsmodels>=0.11.1 in c:\\users\\islam\\anaconda3\\lib\\site-packages (from feature_engine) (0.13.2)\n",
      "Requirement already satisfied: scikit-learn>=1.0.0 in c:\\users\\islam\\anaconda3\\lib\\site-packages (from feature_engine) (1.0.2)\n",
      "Requirement already satisfied: pandas>=1.0.3 in c:\\users\\islam\\anaconda3\\lib\\site-packages (from feature_engine) (1.4.4)\n",
      "Requirement already satisfied: pytz>=2020.1 in c:\\users\\islam\\anaconda3\\lib\\site-packages (from pandas>=1.0.3->feature_engine) (2022.1)\n",
      "Requirement already satisfied: python-dateutil>=2.8.1 in c:\\users\\islam\\anaconda3\\lib\\site-packages (from pandas>=1.0.3->feature_engine) (2.8.2)\n",
      "Requirement already satisfied: joblib>=0.11 in c:\\users\\islam\\anaconda3\\lib\\site-packages (from scikit-learn>=1.0.0->feature_engine) (1.1.0)\n",
      "Requirement already satisfied: threadpoolctl>=2.0.0 in c:\\users\\islam\\anaconda3\\lib\\site-packages (from scikit-learn>=1.0.0->feature_engine) (2.2.0)\n",
      "Requirement already satisfied: patsy>=0.5.2 in c:\\users\\islam\\anaconda3\\lib\\site-packages (from statsmodels>=0.11.1->feature_engine) (0.5.2)\n",
      "Requirement already satisfied: packaging>=21.3 in c:\\users\\islam\\anaconda3\\lib\\site-packages (from statsmodels>=0.11.1->feature_engine) (21.3)\n",
      "Requirement already satisfied: pyparsing!=3.0.5,>=2.0.2 in c:\\users\\islam\\anaconda3\\lib\\site-packages (from packaging>=21.3->statsmodels>=0.11.1->feature_engine) (3.0.9)\n",
      "Requirement already satisfied: six in c:\\users\\islam\\anaconda3\\lib\\site-packages (from patsy>=0.5.2->statsmodels>=0.11.1->feature_engine) (1.16.0)\n"
     ]
    },
    {
     "data": {
      "text/plain": [
       "{'MedInc': [-inf,\n",
       "  2.312425,\n",
       "  4.12495,\n",
       "  5.937475,\n",
       "  7.75,\n",
       "  9.562525,\n",
       "  11.37505,\n",
       "  13.187574999999999,\n",
       "  inf]}"
      ]
     },
     "execution_count": 37,
     "metadata": {},
     "output_type": "execute_result"
    }
   ],
   "source": [
    "# Install the feature_engine library if not already installed\n",
    "!pip install feature_engine\n",
    "\n",
    "# Import the required library and module\n",
    "from feature_engine import discretisation as dsc\n",
    "\n",
    "# Set up the discretisation transformer with specified parameters:\n",
    "# - 'bins' sets the number of bins or intervals (8 in this case)\n",
    "# - 'variables' specifies the columns to be discretized\n",
    "# - if 'return_boundaries=True' is set, then it indicates that you want to return bin boundaries and not the discreate values\n",
    "disc = dsc.EqualWidthDiscretiser(bins=8, variables=['MedInc'])\n",
    "\n",
    "# Fit the transformer on the selected variables\n",
    "disc.fit(df[['MedInc']])\n",
    "\n",
    "# Create a copy of the original DataFrame to store the discretized data\n",
    "df_EqualWidthDiscretiser = df.copy()\n",
    "\n",
    "# Transform the specified columns using the fitted discretisation transformer\n",
    "df_EqualWidthDiscretiser[['MedInc']] = disc.transform(df[['MedInc']])\n",
    "\n",
    "# Access the bin boundaries dictionary (not required for the main discretization)\n",
    "disc.binner_dict_"
   ]
  },
  {
   "cell_type": "markdown",
   "metadata": {
    "id": "3lG_sR6siSbb"
   },
   "source": [
    "To print the DataFrame after discretisation of the MedInc"
   ]
  },
  {
   "cell_type": "code",
   "execution_count": 38,
   "metadata": {
    "colab": {
     "base_uri": "https://localhost:8080/",
     "height": 206
    },
    "id": "wa2l58oehCvN",
    "outputId": "e135d9fe-174e-4ec6-d8ea-38edde103ad0"
   },
   "outputs": [
    {
     "data": {
      "text/html": [
       "<div>\n",
       "<style scoped>\n",
       "    .dataframe tbody tr th:only-of-type {\n",
       "        vertical-align: middle;\n",
       "    }\n",
       "\n",
       "    .dataframe tbody tr th {\n",
       "        vertical-align: top;\n",
       "    }\n",
       "\n",
       "    .dataframe thead th {\n",
       "        text-align: right;\n",
       "    }\n",
       "</style>\n",
       "<table border=\"1\" class=\"dataframe\">\n",
       "  <thead>\n",
       "    <tr style=\"text-align: right;\">\n",
       "      <th></th>\n",
       "      <th>MedInc</th>\n",
       "      <th>HouseAge</th>\n",
       "      <th>AveRooms</th>\n",
       "      <th>AveBedrms</th>\n",
       "      <th>Population</th>\n",
       "      <th>AveOccup</th>\n",
       "      <th>Latitude</th>\n",
       "      <th>Longitude</th>\n",
       "      <th>MedHouseVal</th>\n",
       "    </tr>\n",
       "  </thead>\n",
       "  <tbody>\n",
       "    <tr>\n",
       "      <th>0</th>\n",
       "      <td>4</td>\n",
       "      <td>41.0</td>\n",
       "      <td>6.984127</td>\n",
       "      <td>1.023810</td>\n",
       "      <td>322.0</td>\n",
       "      <td>2.555556</td>\n",
       "      <td>37.88</td>\n",
       "      <td>-122.23</td>\n",
       "      <td>4.526</td>\n",
       "    </tr>\n",
       "    <tr>\n",
       "      <th>1</th>\n",
       "      <td>4</td>\n",
       "      <td>21.0</td>\n",
       "      <td>6.238137</td>\n",
       "      <td>0.971880</td>\n",
       "      <td>2401.0</td>\n",
       "      <td>2.109842</td>\n",
       "      <td>37.86</td>\n",
       "      <td>-122.22</td>\n",
       "      <td>3.585</td>\n",
       "    </tr>\n",
       "    <tr>\n",
       "      <th>2</th>\n",
       "      <td>3</td>\n",
       "      <td>52.0</td>\n",
       "      <td>8.288136</td>\n",
       "      <td>1.073446</td>\n",
       "      <td>496.0</td>\n",
       "      <td>2.802260</td>\n",
       "      <td>37.85</td>\n",
       "      <td>-122.24</td>\n",
       "      <td>3.521</td>\n",
       "    </tr>\n",
       "    <tr>\n",
       "      <th>3</th>\n",
       "      <td>2</td>\n",
       "      <td>52.0</td>\n",
       "      <td>5.817352</td>\n",
       "      <td>1.073059</td>\n",
       "      <td>558.0</td>\n",
       "      <td>2.547945</td>\n",
       "      <td>37.85</td>\n",
       "      <td>-122.25</td>\n",
       "      <td>3.413</td>\n",
       "    </tr>\n",
       "    <tr>\n",
       "      <th>4</th>\n",
       "      <td>1</td>\n",
       "      <td>52.0</td>\n",
       "      <td>6.281853</td>\n",
       "      <td>1.081081</td>\n",
       "      <td>565.0</td>\n",
       "      <td>2.181467</td>\n",
       "      <td>37.85</td>\n",
       "      <td>-122.25</td>\n",
       "      <td>3.422</td>\n",
       "    </tr>\n",
       "  </tbody>\n",
       "</table>\n",
       "</div>"
      ],
      "text/plain": [
       "   MedInc  HouseAge  AveRooms  AveBedrms  Population  AveOccup  Latitude  \\\n",
       "0       4      41.0  6.984127   1.023810       322.0  2.555556     37.88   \n",
       "1       4      21.0  6.238137   0.971880      2401.0  2.109842     37.86   \n",
       "2       3      52.0  8.288136   1.073446       496.0  2.802260     37.85   \n",
       "3       2      52.0  5.817352   1.073059       558.0  2.547945     37.85   \n",
       "4       1      52.0  6.281853   1.081081       565.0  2.181467     37.85   \n",
       "\n",
       "   Longitude  MedHouseVal  \n",
       "0    -122.23        4.526  \n",
       "1    -122.22        3.585  \n",
       "2    -122.24        3.521  \n",
       "3    -122.25        3.413  \n",
       "4    -122.25        3.422  "
      ]
     },
     "execution_count": 38,
     "metadata": {},
     "output_type": "execute_result"
    }
   ],
   "source": [
    "df_EqualWidthDiscretiser.head()"
   ]
  },
  {
   "cell_type": "markdown",
   "metadata": {
    "id": "MfxRrtZSc1EO"
   },
   "source": [
    "As can be observed, the 'MedInc' feature values have been converted into discrete values. To print the width of the bins used for discretization, execute the following code:"
   ]
  },
  {
   "cell_type": "code",
   "execution_count": 39,
   "metadata": {
    "colab": {
     "base_uri": "https://localhost:8080/"
    },
    "id": "x7XAKINSdAMA",
    "outputId": "60282f14-556f-4464-e5e8-2a5d6312eb5c"
   },
   "outputs": [
    {
     "data": {
      "text/plain": [
       "array([     inf, 1.812525, 1.812525, 1.812525, 1.812525, 1.812525,\n",
       "       1.812525,      inf])"
      ]
     },
     "execution_count": 39,
     "metadata": {},
     "output_type": "execute_result"
    }
   ],
   "source": [
    "np.array(disc.binner_dict_['MedInc'][1:]) - np.array(disc.binner_dict_['MedInc'][0:-1])"
   ]
  },
  {
   "cell_type": "markdown",
   "metadata": {
    "id": "EJTs0gMFdBjv"
   },
   "source": [
    "As observed, all bins, except the first and last ones, have the same width. Let us plot the distribution before and after discretisation."
   ]
  },
  {
   "cell_type": "code",
   "execution_count": 40,
   "metadata": {
    "colab": {
     "base_uri": "https://localhost:8080/",
     "height": 487
    },
    "id": "UgPMdkHndi8T",
    "outputId": "24657901-4022-4539-ec0d-50e51ee13205"
   },
   "outputs": [
    {
     "data": {
      "image/png": "[encoded data removed]",
      "text/plain": [
       "<Figure size 1800x500 with 2 Axes>"
      ]
     },
     "metadata": {},
     "output_type": "display_data"
    }
   ],
   "source": [
    "import seaborn as sns\n",
    "fig, axs = plt.subplots(figsize=(18, 5),ncols=2,nrows=1)\n",
    "\n",
    "sns.histplot(data=df, x=\"MedInc\", ax=axs[0], kde=True);axs[0].set_title(f\"Original\")\n",
    "sns.histplot(data=df_EqualWidthDiscretiser, x=\"MedInc\", ax=axs[1], kde=True);axs[1].set_title(f\"After Equal Width Discretiser\")\n",
    "fig.subplots_adjust(hspace=1)"
   ]
  },
  {
   "cell_type": "markdown",
   "metadata": {
    "id": "HIk0SvZKfKY0"
   },
   "source": [
    "**Task 3.9**: What do you observe from the distributions of the MedInc feature before and after discretisation?"
   ]
  },
  {
   "cell_type": "markdown",
   "metadata": {
    "id": "Dwj6WdbjjwOT"
   },
   "source": [
    "**3.2.2.2 Equal-frequency discretization**\n",
    "\n",
    "Equal-frequency discretization is another data preprocessing technique used in feature engineering to transform continuous numerical data into discrete categories of equal frequency. This method divides the range of the data into a specified number of bins or intervals, ensuring that each bin contains approximately the same number of data points.\n",
    "\n",
    "**Task 3.10**: In this task, you will utilize the **KBinsDiscretizer** from scikit-learn (sklearn.preprocessing) to:\n",
    "1. Fit and apply the KBinsDiscretizer to the 'MedInc' feature in the 'fetch_california_housing' dataset.\n",
    "2. Plot and observe the histogram for the transformed feature."
   ]
  },
  {
   "cell_type": "code",
   "execution_count": 43,
   "metadata": {
    "id": "ZSFS2OODmsbv"
   },
   "outputs": [],
   "source": [
    "#write you code here\n",
    "import matplotlib.pyplot as plt\n",
    "from sklearn.datasets import fetch_california_housing\n",
    "from sklearn.preprocessing import KBinsDiscretizer\n",
    "\n",
    "# Load the California housing dataset\n",
    "data = fetch_california_housing()\n",
    "X = data.data"
   ]
  },
  {
   "cell_type": "code",
   "execution_count": 122,
   "metadata": {},
   "outputs": [],
   "source": [
    "# Select the 'MedInc' feature\n",
    "med_inc = X[:, 7]\n",
    "\n",
    "# Create the KBinsDiscretizer\n",
    "kbin_discretizer = KBinsDiscretizer(n_bins=10, encode='ordinal')\n",
    "\n",
    "# Fit and transform the 'MedInc' feature\n",
    "med_inc_binned = kbin_discretizer.fit_transform(med_inc.reshape(-1, 1))"
   ]
  },
  {
   "cell_type": "code",
   "execution_count": 123,
   "metadata": {},
   "outputs": [
    {
     "data": {
      "image/png": "[encoded data removed]",
      "text/plain": [
       "<Figure size 640x480 with 1 Axes>"
      ]
     },
     "metadata": {},
     "output_type": "display_data"
    }
   ],
   "source": [
    "# Plot the histogram\n",
    "plt.hist(med_inc_binned, bins=10, edgecolor='k')\n",
    "plt.title('Histogram of Binned MedInc')\n",
    "plt.xlabel('Bins')\n",
    "plt.ylabel('Frequency')\n",
    "plt.show()"
   ]
  },
  {
   "cell_type": "markdown",
   "metadata": {
    "id": "QGAziDZFnFDi"
   },
   "source": [
    "##3.2.3 Encoding\n"
   ]
  },
  {
   "cell_type": "markdown",
   "metadata": {
    "id": "l0ASVGVxoP0m"
   },
   "source": [
    "Encoding involves converting categorical data, such as text or labels, into a numerical format that machine learning models can interpret. In this experiment, you will investigate three encoding methods: one-hot encoding (creating binary columns for each category), label encoding (assigning a unique integer to each category), and ordinal encoding (mapping ordinal categories to numerical values)."
   ]
  },
  {
   "cell_type": "markdown",
   "metadata": {
    "id": "r8QnbIWGptLG"
   },
   "source": [
    "**3.2.3.1 One-hot encoding**\n",
    "\n",
    "To demonstrate one-hot encoding, You will apply these techniques to a modified version of the Medical Cost Personal Dataset from Kaggle (https://www.kaggle.com/datasets/mirichoi0218/insurance). This dataset provides information pertaining to healthcare and medical insurance costs. It includes the following features:\n",
    "\n",
    "1. Age: Represents the age of the insured individuals.\n",
    "2. Gender: Indicates the gender of the insured individuals (male or female).\n",
    "3. BMI (Body Mass Index): A numerical measure that assesses body weight in relation to height.\n",
    "4. Children: Denotes the number of children or dependents covered by the insurance plan.\n",
    "5. Smoker: Specifies whether the insured individuals are smokers (with values typically as \"yes\" or \"no\").\n",
    "6. Region: Describes the geographic region or location where the insured individuals reside.\n",
    "7. Charges: Represents the medical insurance charges or costs incurred by the insured individuals.\n",
    "\n",
    "This dataset is stored in a file named **ENCS5141_Exp3_MedicalCostPersonalDatasets.csv**, which can be found in the GitHub repository located at https://github.com/mkjubran/ENCS5141Datasets.\n",
    "\n",
    "To clone the repository if you haven't already done so, execute the following code"
   ]
  },
  {
   "cell_type": "code",
   "execution_count": 72,
   "metadata": {
    "colab": {
     "base_uri": "https://localhost:8080/"
    },
    "id": "zSa7Cu1_sihf",
    "outputId": "9ab22ec7-77b5-425f-99e3-7cb2a0eb2bb0"
   },
   "outputs": [
    {
     "name": "stdout",
     "output_type": "stream",
     "text": [
      "Cloning into 'ENCS5141Datasets'...\n",
      "remote: Enumerating objects: 54, done.\u001b[K\n",
      "remote: Counting objects: 100% (54/54), done.\u001b[K\n",
      "remote: Compressing objects: 100% (47/47), done.\u001b[K\n",
      "remote: Total 54 (delta 12), reused 44 (delta 5), pack-reused 0\u001b[K\n",
      "Receiving objects: 100% (54/54), 2.97 MiB | 27.11 MiB/s, done.\n",
      "Resolving deltas: 100% (12/12), done.\n"
     ]
    }
   ],
   "source": [
    "!rm -rf ./ENCS5141Datasets\n",
    "!git clone https://github.com/mkjubran/ENCS5141Datasets.git"
   ]
  },
  {
   "cell_type": "markdown",
   "metadata": {
    "id": "Oym3BIiUud7R"
   },
   "source": [
    "To read the file into a DataFrame and display information about the file run the following code snippet"
   ]
  },
  {
   "cell_type": "code",
   "execution_count": 56,
   "metadata": {
    "colab": {
     "base_uri": "https://localhost:8080/",
     "height": 206
    },
    "id": "kER00es1upfN",
    "outputId": "e6ef57e3-c882-4d7b-eee6-f8534481a3d6"
   },
   "outputs": [
    {
     "data": {
      "text/html": [
       "<div>\n",
       "<style scoped>\n",
       "    .dataframe tbody tr th:only-of-type {\n",
       "        vertical-align: middle;\n",
       "    }\n",
       "\n",
       "    .dataframe tbody tr th {\n",
       "        vertical-align: top;\n",
       "    }\n",
       "\n",
       "    .dataframe thead th {\n",
       "        text-align: right;\n",
       "    }\n",
       "</style>\n",
       "<table border=\"1\" class=\"dataframe\">\n",
       "  <thead>\n",
       "    <tr style=\"text-align: right;\">\n",
       "      <th></th>\n",
       "      <th>age</th>\n",
       "      <th>gender</th>\n",
       "      <th>bmi</th>\n",
       "      <th>children</th>\n",
       "      <th>smoker</th>\n",
       "      <th>region</th>\n",
       "      <th>charges</th>\n",
       "    </tr>\n",
       "  </thead>\n",
       "  <tbody>\n",
       "    <tr>\n",
       "      <th>0</th>\n",
       "      <td>19</td>\n",
       "      <td>female</td>\n",
       "      <td>27.900</td>\n",
       "      <td>0</td>\n",
       "      <td>yes</td>\n",
       "      <td>southwest</td>\n",
       "      <td>16884.92400</td>\n",
       "    </tr>\n",
       "    <tr>\n",
       "      <th>1</th>\n",
       "      <td>18</td>\n",
       "      <td>male</td>\n",
       "      <td>33.770</td>\n",
       "      <td>1</td>\n",
       "      <td>no</td>\n",
       "      <td>southeast</td>\n",
       "      <td>1725.55230</td>\n",
       "    </tr>\n",
       "    <tr>\n",
       "      <th>2</th>\n",
       "      <td>28</td>\n",
       "      <td>male</td>\n",
       "      <td>33.000</td>\n",
       "      <td>3</td>\n",
       "      <td>no</td>\n",
       "      <td>southeast</td>\n",
       "      <td>4449.46200</td>\n",
       "    </tr>\n",
       "    <tr>\n",
       "      <th>3</th>\n",
       "      <td>33</td>\n",
       "      <td>male</td>\n",
       "      <td>22.705</td>\n",
       "      <td>0</td>\n",
       "      <td>no</td>\n",
       "      <td>northwest</td>\n",
       "      <td>21984.47061</td>\n",
       "    </tr>\n",
       "    <tr>\n",
       "      <th>4</th>\n",
       "      <td>32</td>\n",
       "      <td>male</td>\n",
       "      <td>28.880</td>\n",
       "      <td>0</td>\n",
       "      <td>no</td>\n",
       "      <td>northwest</td>\n",
       "      <td>3866.85520</td>\n",
       "    </tr>\n",
       "  </tbody>\n",
       "</table>\n",
       "</div>"
      ],
      "text/plain": [
       "   age  gender     bmi  children smoker     region      charges\n",
       "0   19  female  27.900         0    yes  southwest  16884.92400\n",
       "1   18    male  33.770         1     no  southeast   1725.55230\n",
       "2   28    male  33.000         3     no  southeast   4449.46200\n",
       "3   33    male  22.705         0     no  northwest  21984.47061\n",
       "4   32    male  28.880         0     no  northwest   3866.85520"
      ]
     },
     "execution_count": 56,
     "metadata": {},
     "output_type": "execute_result"
    }
   ],
   "source": [
    "import pandas as pd\n",
    "df = pd.read_csv(\"ENCS5141_Exp3_MedicalCostPersonalDatasets.csv\")\n",
    "df.head()"
   ]
  },
  {
   "cell_type": "markdown",
   "metadata": {
    "id": "lz28xJf-u2Ag"
   },
   "source": [
    "Use the **OneHotEncoder** from sklearn to encode the **gender** feature."
   ]
  },
  {
   "cell_type": "code",
   "execution_count": 57,
   "metadata": {
    "colab": {
     "base_uri": "https://localhost:8080/",
     "height": 206
    },
    "id": "7lVSOg5UvIx_",
    "outputId": "b0d6635e-03b6-47cf-91bf-834847bcdd7b"
   },
   "outputs": [
    {
     "data": {
      "text/html": [
       "<div>\n",
       "<style scoped>\n",
       "    .dataframe tbody tr th:only-of-type {\n",
       "        vertical-align: middle;\n",
       "    }\n",
       "\n",
       "    .dataframe tbody tr th {\n",
       "        vertical-align: top;\n",
       "    }\n",
       "\n",
       "    .dataframe thead th {\n",
       "        text-align: right;\n",
       "    }\n",
       "</style>\n",
       "<table border=\"1\" class=\"dataframe\">\n",
       "  <thead>\n",
       "    <tr style=\"text-align: right;\">\n",
       "      <th></th>\n",
       "      <th>age</th>\n",
       "      <th>gender</th>\n",
       "      <th>bmi</th>\n",
       "      <th>children</th>\n",
       "      <th>smoker</th>\n",
       "      <th>region</th>\n",
       "      <th>charges</th>\n",
       "      <th>female</th>\n",
       "      <th>male</th>\n",
       "    </tr>\n",
       "  </thead>\n",
       "  <tbody>\n",
       "    <tr>\n",
       "      <th>0</th>\n",
       "      <td>19</td>\n",
       "      <td>female</td>\n",
       "      <td>27.900</td>\n",
       "      <td>0</td>\n",
       "      <td>yes</td>\n",
       "      <td>southwest</td>\n",
       "      <td>16884.92400</td>\n",
       "      <td>1.0</td>\n",
       "      <td>0.0</td>\n",
       "    </tr>\n",
       "    <tr>\n",
       "      <th>1</th>\n",
       "      <td>18</td>\n",
       "      <td>male</td>\n",
       "      <td>33.770</td>\n",
       "      <td>1</td>\n",
       "      <td>no</td>\n",
       "      <td>southeast</td>\n",
       "      <td>1725.55230</td>\n",
       "      <td>0.0</td>\n",
       "      <td>1.0</td>\n",
       "    </tr>\n",
       "    <tr>\n",
       "      <th>2</th>\n",
       "      <td>28</td>\n",
       "      <td>male</td>\n",
       "      <td>33.000</td>\n",
       "      <td>3</td>\n",
       "      <td>no</td>\n",
       "      <td>southeast</td>\n",
       "      <td>4449.46200</td>\n",
       "      <td>0.0</td>\n",
       "      <td>1.0</td>\n",
       "    </tr>\n",
       "    <tr>\n",
       "      <th>3</th>\n",
       "      <td>33</td>\n",
       "      <td>male</td>\n",
       "      <td>22.705</td>\n",
       "      <td>0</td>\n",
       "      <td>no</td>\n",
       "      <td>northwest</td>\n",
       "      <td>21984.47061</td>\n",
       "      <td>0.0</td>\n",
       "      <td>1.0</td>\n",
       "    </tr>\n",
       "    <tr>\n",
       "      <th>4</th>\n",
       "      <td>32</td>\n",
       "      <td>male</td>\n",
       "      <td>28.880</td>\n",
       "      <td>0</td>\n",
       "      <td>no</td>\n",
       "      <td>northwest</td>\n",
       "      <td>3866.85520</td>\n",
       "      <td>0.0</td>\n",
       "      <td>1.0</td>\n",
       "    </tr>\n",
       "  </tbody>\n",
       "</table>\n",
       "</div>"
      ],
      "text/plain": [
       "   age  gender     bmi  children smoker     region      charges  female  male\n",
       "0   19  female  27.900         0    yes  southwest  16884.92400     1.0   0.0\n",
       "1   18    male  33.770         1     no  southeast   1725.55230     0.0   1.0\n",
       "2   28    male  33.000         3     no  southeast   4449.46200     0.0   1.0\n",
       "3   33    male  22.705         0     no  northwest  21984.47061     0.0   1.0\n",
       "4   32    male  28.880         0     no  northwest   3866.85520     0.0   1.0"
      ]
     },
     "execution_count": 57,
     "metadata": {},
     "output_type": "execute_result"
    }
   ],
   "source": [
    "# Import the necessary library for one-hot encoding\n",
    "from sklearn.preprocessing import OneHotEncoder\n",
    "\n",
    "# Create an instance of the OneHotEncoder with 'handle_unknown' set to 'ignore'\n",
    "enc = OneHotEncoder(handle_unknown='ignore')\n",
    "\n",
    "# Fit the encoder on the 'gender' column of the DataFrame\n",
    "enc.fit(df[['gender']])\n",
    "\n",
    "# Transform the 'gender' column into a one-hot encoded array and convert it to a dense array\n",
    "df_gender = enc.transform(df[['gender']]).toarray()\n",
    "\n",
    "# Create a copy of the original DataFrame to store the one-hot encoded data\n",
    "df_ohenc = df.copy()\n",
    "\n",
    "# Add the one-hot encoded columns to the new DataFrame using the encoder's categories\n",
    "df_ohenc[enc.categories_[0]] = df_gender\n",
    "\n",
    "# Display the first few rows of the new DataFrame\n",
    "df_ohenc.head()\n"
   ]
  },
  {
   "cell_type": "markdown",
   "metadata": {
    "id": "aP8llgXAz098"
   },
   "source": [
    "Each category is represented by its own distinct binary column in the encoding. Remember to exclude the original 'gender' (text) feature from the encoded dataset before using it for machine learning purposes"
   ]
  },
  {
   "cell_type": "markdown",
   "metadata": {
    "id": "GBzSD--H0Inv"
   },
   "source": [
    "**Task 3.9**: use the OneHotEncoder from sklearn from sklearn to encode the **smoker** and **region** features."
   ]
  },
  {
   "cell_type": "code",
   "execution_count": 65,
   "metadata": {
    "id": "lUXLaq7h0_n-"
   },
   "outputs": [
    {
     "data": {
      "text/html": [
       "<div>\n",
       "<style scoped>\n",
       "    .dataframe tbody tr th:only-of-type {\n",
       "        vertical-align: middle;\n",
       "    }\n",
       "\n",
       "    .dataframe tbody tr th {\n",
       "        vertical-align: top;\n",
       "    }\n",
       "\n",
       "    .dataframe thead th {\n",
       "        text-align: right;\n",
       "    }\n",
       "</style>\n",
       "<table border=\"1\" class=\"dataframe\">\n",
       "  <thead>\n",
       "    <tr style=\"text-align: right;\">\n",
       "      <th></th>\n",
       "      <th>age</th>\n",
       "      <th>gender</th>\n",
       "      <th>bmi</th>\n",
       "      <th>children</th>\n",
       "      <th>charges</th>\n",
       "      <th>smoker_no</th>\n",
       "      <th>smoker_yes</th>\n",
       "      <th>region_northeast</th>\n",
       "      <th>region_northwest</th>\n",
       "      <th>region_southeast</th>\n",
       "      <th>region_southwest</th>\n",
       "    </tr>\n",
       "  </thead>\n",
       "  <tbody>\n",
       "    <tr>\n",
       "      <th>0</th>\n",
       "      <td>19</td>\n",
       "      <td>female</td>\n",
       "      <td>27.900</td>\n",
       "      <td>0</td>\n",
       "      <td>16884.92400</td>\n",
       "      <td>0.0</td>\n",
       "      <td>1.0</td>\n",
       "      <td>0.0</td>\n",
       "      <td>0.0</td>\n",
       "      <td>0.0</td>\n",
       "      <td>1.0</td>\n",
       "    </tr>\n",
       "    <tr>\n",
       "      <th>1</th>\n",
       "      <td>18</td>\n",
       "      <td>male</td>\n",
       "      <td>33.770</td>\n",
       "      <td>1</td>\n",
       "      <td>1725.55230</td>\n",
       "      <td>1.0</td>\n",
       "      <td>0.0</td>\n",
       "      <td>0.0</td>\n",
       "      <td>0.0</td>\n",
       "      <td>1.0</td>\n",
       "      <td>0.0</td>\n",
       "    </tr>\n",
       "    <tr>\n",
       "      <th>2</th>\n",
       "      <td>28</td>\n",
       "      <td>male</td>\n",
       "      <td>33.000</td>\n",
       "      <td>3</td>\n",
       "      <td>4449.46200</td>\n",
       "      <td>1.0</td>\n",
       "      <td>0.0</td>\n",
       "      <td>0.0</td>\n",
       "      <td>0.0</td>\n",
       "      <td>1.0</td>\n",
       "      <td>0.0</td>\n",
       "    </tr>\n",
       "    <tr>\n",
       "      <th>3</th>\n",
       "      <td>33</td>\n",
       "      <td>male</td>\n",
       "      <td>22.705</td>\n",
       "      <td>0</td>\n",
       "      <td>21984.47061</td>\n",
       "      <td>1.0</td>\n",
       "      <td>0.0</td>\n",
       "      <td>0.0</td>\n",
       "      <td>1.0</td>\n",
       "      <td>0.0</td>\n",
       "      <td>0.0</td>\n",
       "    </tr>\n",
       "    <tr>\n",
       "      <th>4</th>\n",
       "      <td>32</td>\n",
       "      <td>male</td>\n",
       "      <td>28.880</td>\n",
       "      <td>0</td>\n",
       "      <td>3866.85520</td>\n",
       "      <td>1.0</td>\n",
       "      <td>0.0</td>\n",
       "      <td>0.0</td>\n",
       "      <td>1.0</td>\n",
       "      <td>0.0</td>\n",
       "      <td>0.0</td>\n",
       "    </tr>\n",
       "  </tbody>\n",
       "</table>\n",
       "</div>"
      ],
      "text/plain": [
       "   age  gender     bmi  children      charges  smoker_no  smoker_yes  \\\n",
       "0   19  female  27.900         0  16884.92400        0.0         1.0   \n",
       "1   18    male  33.770         1   1725.55230        1.0         0.0   \n",
       "2   28    male  33.000         3   4449.46200        1.0         0.0   \n",
       "3   33    male  22.705         0  21984.47061        1.0         0.0   \n",
       "4   32    male  28.880         0   3866.85520        1.0         0.0   \n",
       "\n",
       "   region_northeast  region_northwest  region_southeast  region_southwest  \n",
       "0               0.0               0.0               0.0               1.0  \n",
       "1               0.0               0.0               1.0               0.0  \n",
       "2               0.0               0.0               1.0               0.0  \n",
       "3               0.0               1.0               0.0               0.0  \n",
       "4               0.0               1.0               0.0               0.0  "
      ]
     },
     "execution_count": 65,
     "metadata": {},
     "output_type": "execute_result"
    }
   ],
   "source": [
    "#write you code here\n",
    "\n",
    "# Import the necessary library for one-hot encoding\n",
    "from sklearn.preprocessing import OneHotEncoder\n",
    "\n",
    "# Create an instance of the OneHotEncoder with 'handle_unknown' set to 'ignore'\n",
    "enc = OneHotEncoder(handle_unknown='ignore')\n",
    "\n",
    "# Fit the encoder on the 'smoker' and 'region' columns of the DataFrame\n",
    "enc.fit(df[['smoker', 'region']])\n",
    "\n",
    "# Transform the 'smoker' and 'region' columns into one-hot encoded arrays and convert them to dense arrays\n",
    "df_encoded = enc.transform(df[['smoker', 'region']]).toarray()\n",
    "\n",
    "# Create a copy of the original DataFrame to store the one-hot encoded data\n",
    "df_ohenc = df.copy()\n",
    "\n",
    "# Add the one-hot encoded columns to the new DataFrame using the encoder's categories\n",
    "encoded_columns = enc.get_feature_names_out(input_features=['smoker', 'region'])\n",
    "df_ohenc[encoded_columns] = df_encoded\n",
    "\n",
    "# Remove the original 'smoker' and 'region' columns from the new DataFrame\n",
    "df_ohenc.drop(['smoker', 'region'], axis=1, inplace=True)\n",
    "\n",
    "# Display the first few rows of the new DataFrame with one-hot encoding\n",
    "df_ohenc.head()\n"
   ]
  },
  {
   "cell_type": "markdown",
   "metadata": {
    "id": "son0bKTj1AVl"
   },
   "source": [
    "**3.2.3.1 Label encoding**\n",
    "\n",
    "**Task 3.10**: use the LabelEncoder from sklearn (sklearn.preprocessing) to encode all text features in the Medical Cost Personal Dataset and observe the difference between one-hot encoding and label encoding."
   ]
  },
  {
   "cell_type": "code",
   "execution_count": 77,
   "metadata": {
    "id": "gLOBZBjP15HI"
   },
   "outputs": [
    {
     "data": {
      "text/html": [
       "<div>\n",
       "<style scoped>\n",
       "    .dataframe tbody tr th:only-of-type {\n",
       "        vertical-align: middle;\n",
       "    }\n",
       "\n",
       "    .dataframe tbody tr th {\n",
       "        vertical-align: top;\n",
       "    }\n",
       "\n",
       "    .dataframe thead th {\n",
       "        text-align: right;\n",
       "    }\n",
       "</style>\n",
       "<table border=\"1\" class=\"dataframe\">\n",
       "  <thead>\n",
       "    <tr style=\"text-align: right;\">\n",
       "      <th></th>\n",
       "      <th>age</th>\n",
       "      <th>gender</th>\n",
       "      <th>bmi</th>\n",
       "      <th>children</th>\n",
       "      <th>smoker</th>\n",
       "      <th>region</th>\n",
       "      <th>charges</th>\n",
       "    </tr>\n",
       "  </thead>\n",
       "  <tbody>\n",
       "    <tr>\n",
       "      <th>0</th>\n",
       "      <td>19</td>\n",
       "      <td>female</td>\n",
       "      <td>27.900</td>\n",
       "      <td>0</td>\n",
       "      <td>yes</td>\n",
       "      <td>southwest</td>\n",
       "      <td>16884.92400</td>\n",
       "    </tr>\n",
       "    <tr>\n",
       "      <th>1</th>\n",
       "      <td>18</td>\n",
       "      <td>male</td>\n",
       "      <td>33.770</td>\n",
       "      <td>1</td>\n",
       "      <td>no</td>\n",
       "      <td>southeast</td>\n",
       "      <td>1725.55230</td>\n",
       "    </tr>\n",
       "    <tr>\n",
       "      <th>2</th>\n",
       "      <td>28</td>\n",
       "      <td>male</td>\n",
       "      <td>33.000</td>\n",
       "      <td>3</td>\n",
       "      <td>no</td>\n",
       "      <td>southeast</td>\n",
       "      <td>4449.46200</td>\n",
       "    </tr>\n",
       "    <tr>\n",
       "      <th>3</th>\n",
       "      <td>33</td>\n",
       "      <td>male</td>\n",
       "      <td>22.705</td>\n",
       "      <td>0</td>\n",
       "      <td>no</td>\n",
       "      <td>northwest</td>\n",
       "      <td>21984.47061</td>\n",
       "    </tr>\n",
       "    <tr>\n",
       "      <th>4</th>\n",
       "      <td>32</td>\n",
       "      <td>male</td>\n",
       "      <td>28.880</td>\n",
       "      <td>0</td>\n",
       "      <td>no</td>\n",
       "      <td>northwest</td>\n",
       "      <td>3866.85520</td>\n",
       "    </tr>\n",
       "  </tbody>\n",
       "</table>\n",
       "</div>"
      ],
      "text/plain": [
       "   age  gender     bmi  children smoker     region      charges\n",
       "0   19  female  27.900         0    yes  southwest  16884.92400\n",
       "1   18    male  33.770         1     no  southeast   1725.55230\n",
       "2   28    male  33.000         3     no  southeast   4449.46200\n",
       "3   33    male  22.705         0     no  northwest  21984.47061\n",
       "4   32    male  28.880         0     no  northwest   3866.85520"
      ]
     },
     "execution_count": 77,
     "metadata": {},
     "output_type": "execute_result"
    }
   ],
   "source": [
    "#write you code here\n",
    "\n",
    "import pandas as pd\n",
    "from sklearn.preprocessing import LabelEncoder\n",
    "\n",
    "# Load the dataset\n",
    "df = pd.read_csv(\"ENCS5141_Exp3_MedicalCostPersonalDatasets.csv\")\n",
    "df.head()"
   ]
  },
  {
   "cell_type": "code",
   "execution_count": 78,
   "metadata": {},
   "outputs": [
    {
     "data": {
      "text/html": [
       "<div>\n",
       "<style scoped>\n",
       "    .dataframe tbody tr th:only-of-type {\n",
       "        vertical-align: middle;\n",
       "    }\n",
       "\n",
       "    .dataframe tbody tr th {\n",
       "        vertical-align: top;\n",
       "    }\n",
       "\n",
       "    .dataframe thead th {\n",
       "        text-align: right;\n",
       "    }\n",
       "</style>\n",
       "<table border=\"1\" class=\"dataframe\">\n",
       "  <thead>\n",
       "    <tr style=\"text-align: right;\">\n",
       "      <th></th>\n",
       "      <th>age</th>\n",
       "      <th>gender</th>\n",
       "      <th>bmi</th>\n",
       "      <th>children</th>\n",
       "      <th>smoker</th>\n",
       "      <th>region</th>\n",
       "      <th>charges</th>\n",
       "    </tr>\n",
       "  </thead>\n",
       "  <tbody>\n",
       "    <tr>\n",
       "      <th>0</th>\n",
       "      <td>19</td>\n",
       "      <td>0</td>\n",
       "      <td>27.900</td>\n",
       "      <td>0</td>\n",
       "      <td>1</td>\n",
       "      <td>3</td>\n",
       "      <td>16884.92400</td>\n",
       "    </tr>\n",
       "    <tr>\n",
       "      <th>1</th>\n",
       "      <td>18</td>\n",
       "      <td>1</td>\n",
       "      <td>33.770</td>\n",
       "      <td>1</td>\n",
       "      <td>0</td>\n",
       "      <td>2</td>\n",
       "      <td>1725.55230</td>\n",
       "    </tr>\n",
       "    <tr>\n",
       "      <th>2</th>\n",
       "      <td>28</td>\n",
       "      <td>1</td>\n",
       "      <td>33.000</td>\n",
       "      <td>3</td>\n",
       "      <td>0</td>\n",
       "      <td>2</td>\n",
       "      <td>4449.46200</td>\n",
       "    </tr>\n",
       "    <tr>\n",
       "      <th>3</th>\n",
       "      <td>33</td>\n",
       "      <td>1</td>\n",
       "      <td>22.705</td>\n",
       "      <td>0</td>\n",
       "      <td>0</td>\n",
       "      <td>1</td>\n",
       "      <td>21984.47061</td>\n",
       "    </tr>\n",
       "    <tr>\n",
       "      <th>4</th>\n",
       "      <td>32</td>\n",
       "      <td>1</td>\n",
       "      <td>28.880</td>\n",
       "      <td>0</td>\n",
       "      <td>0</td>\n",
       "      <td>1</td>\n",
       "      <td>3866.85520</td>\n",
       "    </tr>\n",
       "  </tbody>\n",
       "</table>\n",
       "</div>"
      ],
      "text/plain": [
       "   age  gender     bmi  children  smoker  region      charges\n",
       "0   19       0  27.900         0       1       3  16884.92400\n",
       "1   18       1  33.770         1       0       2   1725.55230\n",
       "2   28       1  33.000         3       0       2   4449.46200\n",
       "3   33       1  22.705         0       0       1  21984.47061\n",
       "4   32       1  28.880         0       0       1   3866.85520"
      ]
     },
     "execution_count": 78,
     "metadata": {},
     "output_type": "execute_result"
    }
   ],
   "source": [
    "# Initialize a LabelEncoder\n",
    "label_encoder = LabelEncoder()\n",
    "\n",
    "# List of text column names to be label encoded\n",
    "text_columns = ['gender', 'smoker', 'region']\n",
    "\n",
    "# Encode each text column in the DataFrame\n",
    "for column in text_columns:\n",
    "    df[column] = label_encoder.fit_transform(df[column])\n",
    "df.head()"
   ]
  },
  {
   "cell_type": "markdown",
   "metadata": {
    "id": "2zW8jLW3K3Ee"
   },
   "source": [
    "#3.3 Handling High-Dimensional Data"
   ]
  },
  {
   "cell_type": "markdown",
   "metadata": {
    "id": "SoOaOpxm3SeD"
   },
   "source": [
    "To tackle this challenge, various techniques and strategies are employed. In this experiment, we will specifically investigate dimensionality reduction techniques as an approach to address high-dimensional data. Our focus will be on two prominent methods for dimensionality reduction: Principal Component Analysis (PCA) and Linear Discriminant Analysis (LDA).\n",
    "\n",
    "**Principal Component Analysis (PCA)**: PCA is one of the most widely used techniques for reducing the dimensionality of data. It transforms the original features into a new set of orthogonal features called principal components. These components capture the maximum variance in the data, allowing for dimensionality reduction while retaining as much information as possible.\n",
    "\n",
    "**Linear Discriminant Analysis (LDA)**: LDA is used when the goal is not just dimensionality reduction but also class separation. It finds a linear combination of features that maximizes the distance between different classes while minimizing the variance within each class.\n",
    "\n",
    "Both PCA and LDA are dimensionality reduction techniques, PCA is unsupervised and aims to capture maximum variance, whereas LDA is supervised and focuses on maximizing class separation. The choice between PCA and LDA depends on the specific goals of your machine learning task and whether you are dealing with a classification problem."
   ]
  },
  {
   "cell_type": "markdown",
   "metadata": {
    "id": "X5gFmSW24UOp"
   },
   "source": [
    "##3.3.1 Principle component Analysis"
   ]
  },
  {
   "cell_type": "markdown",
   "metadata": {
    "id": "067wTTCv4Keu"
   },
   "source": [
    "\n",
    "**3.1.1.1 Synthetic Data**\n",
    "\n",
    "To demonstrate the PCA, let us start with synthetic data as presented in the code snippet below."
   ]
  },
  {
   "cell_type": "code",
   "execution_count": 79,
   "metadata": {
    "colab": {
     "base_uri": "https://localhost:8080/",
     "height": 206
    },
    "id": "fZ8U_wP75Sdv",
    "outputId": "90206418-de4c-4428-a1d9-a88134834f0f"
   },
   "outputs": [
    {
     "data": {
      "text/html": [
       "<div>\n",
       "<style scoped>\n",
       "    .dataframe tbody tr th:only-of-type {\n",
       "        vertical-align: middle;\n",
       "    }\n",
       "\n",
       "    .dataframe tbody tr th {\n",
       "        vertical-align: top;\n",
       "    }\n",
       "\n",
       "    .dataframe thead th {\n",
       "        text-align: right;\n",
       "    }\n",
       "</style>\n",
       "<table border=\"1\" class=\"dataframe\">\n",
       "  <thead>\n",
       "    <tr style=\"text-align: right;\">\n",
       "      <th></th>\n",
       "      <th>A</th>\n",
       "      <th>B</th>\n",
       "      <th>C</th>\n",
       "      <th>D</th>\n",
       "    </tr>\n",
       "  </thead>\n",
       "  <tbody>\n",
       "    <tr>\n",
       "      <th>0</th>\n",
       "      <td>-0.029121</td>\n",
       "      <td>0.076677</td>\n",
       "      <td>0.079859</td>\n",
       "      <td>6.887763</td>\n",
       "    </tr>\n",
       "    <tr>\n",
       "      <th>1</th>\n",
       "      <td>-1.428819</td>\n",
       "      <td>-8.511809</td>\n",
       "      <td>0.780507</td>\n",
       "      <td>1.965346</td>\n",
       "    </tr>\n",
       "    <tr>\n",
       "      <th>2</th>\n",
       "      <td>-1.150177</td>\n",
       "      <td>4.677975</td>\n",
       "      <td>0.301395</td>\n",
       "      <td>8.315767</td>\n",
       "    </tr>\n",
       "    <tr>\n",
       "      <th>3</th>\n",
       "      <td>0.326172</td>\n",
       "      <td>-4.017620</td>\n",
       "      <td>0.883853</td>\n",
       "      <td>5.431085</td>\n",
       "    </tr>\n",
       "    <tr>\n",
       "      <th>4</th>\n",
       "      <td>-0.380653</td>\n",
       "      <td>1.851959</td>\n",
       "      <td>0.427622</td>\n",
       "      <td>3.514578</td>\n",
       "    </tr>\n",
       "  </tbody>\n",
       "</table>\n",
       "</div>"
      ],
      "text/plain": [
       "          A         B         C         D\n",
       "0 -0.029121  0.076677  0.079859  6.887763\n",
       "1 -1.428819 -8.511809  0.780507  1.965346\n",
       "2 -1.150177  4.677975  0.301395  8.315767\n",
       "3  0.326172 -4.017620  0.883853  5.431085\n",
       "4 -0.380653  1.851959  0.427622  3.514578"
      ]
     },
     "execution_count": 79,
     "metadata": {},
     "output_type": "execute_result"
    }
   ],
   "source": [
    "import numpy as np\n",
    "import pandas as pd\n",
    "\n",
    "#To generate an array of floating numbers between -2 and 2\n",
    "A = np.random.random(1000)*4 - 2\n",
    "\n",
    "#To generate an array of floating numbers between -10 and 10\n",
    "B = np.random.random(1000)*20 - 10\n",
    "\n",
    "#To generate an array of floating numbers between 0 and 1\n",
    "C = np.random.random(1000)\n",
    "\n",
    "#To generate an array of floating numbers between 0 and 10\n",
    "D = np.random.random(1000)*10\n",
    "\n",
    "df = pd.DataFrame({'A':A,'B':B,'C':C,'D':D})\n",
    "df.head()"
   ]
  },
  {
   "cell_type": "markdown",
   "metadata": {
    "id": "GCPBqrDJ7v36"
   },
   "source": [
    "Utilize scikit-learn's **PCA** (Principal Component Analysis) to derive PCA components from the synthetic data. In this context, we will configure the n_components parameter to yield a result of 4 components."
   ]
  },
  {
   "cell_type": "code",
   "execution_count": 80,
   "metadata": {
    "colab": {
     "base_uri": "https://localhost:8080/",
     "height": 224
    },
    "id": "sSUmGcMi5iQD",
    "outputId": "8842df02-f023-4ee2-88f1-6bf19a50fe26"
   },
   "outputs": [
    {
     "name": "stdout",
     "output_type": "stream",
     "text": [
      "Explained variance ratio for each PCA component are [0.76840461 0.19740408 0.03224853 0.00194278]\n"
     ]
    },
    {
     "data": {
      "text/html": [
       "<div>\n",
       "<style scoped>\n",
       "    .dataframe tbody tr th:only-of-type {\n",
       "        vertical-align: middle;\n",
       "    }\n",
       "\n",
       "    .dataframe tbody tr th {\n",
       "        vertical-align: top;\n",
       "    }\n",
       "\n",
       "    .dataframe thead th {\n",
       "        text-align: right;\n",
       "    }\n",
       "</style>\n",
       "<table border=\"1\" class=\"dataframe\">\n",
       "  <thead>\n",
       "    <tr style=\"text-align: right;\">\n",
       "      <th></th>\n",
       "      <th>0</th>\n",
       "      <th>1</th>\n",
       "      <th>2</th>\n",
       "      <th>3</th>\n",
       "    </tr>\n",
       "  </thead>\n",
       "  <tbody>\n",
       "    <tr>\n",
       "      <th>0</th>\n",
       "      <td>-0.016194</td>\n",
       "      <td>-1.773034</td>\n",
       "      <td>-0.019942</td>\n",
       "      <td>0.423549</td>\n",
       "    </tr>\n",
       "    <tr>\n",
       "      <th>1</th>\n",
       "      <td>8.602748</td>\n",
       "      <td>3.108557</td>\n",
       "      <td>-1.384116</td>\n",
       "      <td>-0.258565</td>\n",
       "    </tr>\n",
       "    <tr>\n",
       "      <th>2</th>\n",
       "      <td>-4.627647</td>\n",
       "      <td>-3.160766</td>\n",
       "      <td>-1.147489</td>\n",
       "      <td>0.190495</td>\n",
       "    </tr>\n",
       "    <tr>\n",
       "      <th>3</th>\n",
       "      <td>4.089752</td>\n",
       "      <td>-0.346130</td>\n",
       "      <td>0.343652</td>\n",
       "      <td>-0.370666</td>\n",
       "    </tr>\n",
       "    <tr>\n",
       "      <th>4</th>\n",
       "      <td>-1.769784</td>\n",
       "      <td>1.614516</td>\n",
       "      <td>-0.334661</td>\n",
       "      <td>0.070142</td>\n",
       "    </tr>\n",
       "  </tbody>\n",
       "</table>\n",
       "</div>"
      ],
      "text/plain": [
       "          0         1         2         3\n",
       "0 -0.016194 -1.773034 -0.019942  0.423549\n",
       "1  8.602748  3.108557 -1.384116 -0.258565\n",
       "2 -4.627647 -3.160766 -1.147489  0.190495\n",
       "3  4.089752 -0.346130  0.343652 -0.370666\n",
       "4 -1.769784  1.614516 -0.334661  0.070142"
      ]
     },
     "execution_count": 80,
     "metadata": {},
     "output_type": "execute_result"
    }
   ],
   "source": [
    "# Import the PCA module from scikit-learn\n",
    "from sklearn.decomposition import PCA\n",
    "\n",
    "# Create an instance of PCA with n_components set to 4\n",
    "pca = PCA(n_components=4)\n",
    "\n",
    "# Fit the PCA model on the data (assuming 'df' contains your dataset)\n",
    "pca.fit(df)\n",
    "\n",
    "# Print the explained variance ratio for each selected component\n",
    "print(f\"Explained variance ratio for each PCA component are {pca.explained_variance_ratio_}\")\n",
    "\n",
    "# Transform the original DataFrame 'df' using PCA\n",
    "Array_PCA = pca.transform(df)\n",
    "\n",
    "# Create a new DataFrame 'df_PCA' from the transformed data\n",
    "df_PCA = pd.DataFrame(Array_PCA)\n",
    "\n",
    "# Display the first few rows of the new DataFrame\n",
    "df_PCA.head()"
   ]
  },
  {
   "cell_type": "markdown",
   "metadata": {
    "id": "dOtilkL78Ejb"
   },
   "source": [
    "Observing the explained variance ratio, which indicates how much of the total variance in the original dataset is accounted for by each principal component, we notice a decreasing trend. This suggests that the initial PCA components have higher variance compared to the later ones. Now, let's visualize the histograms before and after applying PCA"
   ]
  },
  {
   "cell_type": "code",
   "execution_count": 81,
   "metadata": {
    "colab": {
     "base_uri": "https://localhost:8080/",
     "height": 487
    },
    "id": "k_ns36zC6qJe",
    "outputId": "00b5a965-6397-4023-93c2-d0f4774f4f9e"
   },
   "outputs": [
    {
     "data": {
      "image/png": "[encoded data removed]",
      "text/plain": [
       "<Figure size 1800x500 with 8 Axes>"
      ]
     },
     "metadata": {},
     "output_type": "display_data"
    }
   ],
   "source": [
    "import matplotlib.pyplot as plt\n",
    "import seaborn as sns\n",
    "fig, axs = plt.subplots(figsize=(18, 5),ncols=4,nrows=2)\n",
    "\n",
    "sns.histplot(data=df, x=\"A\", ax=axs[0,0], kde=True);axs[0,0].set_title(f\"Original A\")\n",
    "sns.histplot(data=df, x=\"B\", ax=axs[0,1], kde=True);axs[0,1].set_title(f\"Original B\")\n",
    "sns.histplot(data=df, x=\"C\", ax=axs[0,2], kde=True);axs[0,2].set_title(f\"Original C\")\n",
    "sns.histplot(data=df, x=\"D\", ax=axs[0,3], kde=True);axs[0,3].set_title(f\"Original D\")\n",
    "\n",
    "sns.histplot(data=df_PCA, x=0, ax=axs[1,0], kde=True);axs[1,0].set_title(f\"PCA 1'st Component\")\n",
    "sns.histplot(data=df_PCA, x=1, ax=axs[1,1], kde=True);axs[1,1].set_title(f\"PCA 2'nd Component\")\n",
    "sns.histplot(data=df_PCA, x=2, ax=axs[1,2], kde=True);axs[1,2].set_title(f\"PCA 3'rd Component\")\n",
    "sns.histplot(data=df_PCA, x=3, ax=axs[1,3], kde=True);axs[1,3].set_title(f\"PCA 4'th Component\")\n",
    "\n",
    "fig.subplots_adjust(hspace=1)"
   ]
  },
  {
   "cell_type": "markdown",
   "metadata": {
    "id": "AmqQ3JdL-b6C"
   },
   "source": [
    "Notice that the distribution of features in the original data differs from that of the PCA components. Additionally, observe the range of values in the PCA components, where the first component covers a wider range than the second, and this pattern continues for the other PCA components."
   ]
  },
  {
   "cell_type": "markdown",
   "metadata": {
    "id": "NN_X416m-8bq"
   },
   "source": [
    "\n",
    "**Task 3.11**: Modify the numer of components to be preserved by PCA in the previous code and examine the outcomes."
   ]
  },
  {
   "cell_type": "markdown",
   "metadata": {
    "id": "KeNzqbfB_gEn"
   },
   "source": [
    "**3.1.1.2 \"Digits\" Dataset**\n",
    "\n",
    "To assess the influence of PCA on machine learning, we will evaluate and compare the performance of machine learning models with and without employing PCA for feature processing. We will load the \"Digits\" dataset from sklearn. This dataset is a commonly employed for practicing classification algorithms. Here are the key characteristics of the Digits dataset:\n",
    "- **Data Source**: The dataset consists of 8x8 pixel images of handwritten digits (0 through 9). These images are grayscale and were originally collected from different individuals.\n",
    "- **Data Format**: Each image is represented as an 8x8 matrix of pixel values. In scikit-learn, these matrices are flattened into 64-element feature vectors, where each element represents the intensity of a pixel (ranging from 0 to 16).\n",
    "- **Target Labels**: For each image, there is a corresponding label (target) that indicates the digit it represents (0 through 9). These labels are commonly used for classification tasks, where the goal is to train a machine learning model to recognize handwritten digits.\n",
    "\n",
    "In this context, we will employ the **train_test_split()** method to partition the dataset into training and testing datasets. Subsequently, we will utilize the training data to train the random forest classifier. Following the training, we will assess the testing accuracies (classification correctness) before and after PCA. More comprehensive details regarding the random forest classifier and the training and evaluation processes will be discussed in future experiments."
   ]
  },
  {
   "cell_type": "code",
   "execution_count": 82,
   "metadata": {
    "colab": {
     "base_uri": "https://localhost:8080/"
    },
    "id": "LuADzuIeB280",
    "outputId": "c4d4092c-3053-42dd-92ab-44309e9ebd59"
   },
   "outputs": [
    {
     "name": "stdout",
     "output_type": "stream",
     "text": [
      "Explained variance ratio for each PCA component: [0.14804542 0.13685747 0.12028728 0.08430325 0.05633691 0.04930761\n",
      " 0.04276507 0.03566932]\n",
      "Number of original features: 64\n",
      "Number of features retained after PCA: 8\n",
      "Accuracy of Original features (testing accuracy): 0.9722222222222222\n",
      "Accuracy after PCA (testing accuracy): 0.9388888888888889\n"
     ]
    }
   ],
   "source": [
    "from sklearn.decomposition import PCA\n",
    "from sklearn.datasets import load_digits\n",
    "from sklearn.model_selection import train_test_split\n",
    "from sklearn.ensemble import RandomForestClassifier\n",
    "from sklearn.metrics import accuracy_score\n",
    "\n",
    "# Load the Digits dataset\n",
    "digits = load_digits()\n",
    "X, y = digits.data, digits.target\n",
    "\n",
    "# Split the dataset into training and testing sets\n",
    "X_train, X_test, y_train, y_test = train_test_split(X, y, test_size=0.2, random_state=42)\n",
    "\n",
    "# Train a classifier on the original features and evaluate\n",
    "clf = RandomForestClassifier(random_state=42)\n",
    "clf.fit(X_train, y_train)\n",
    "y_pred = clf.predict(X_test)\n",
    "accuracy = accuracy_score(y_test, y_pred)\n",
    "\n",
    "# Create PCA instance and fit to the data\n",
    "pca = PCA(n_components=8)  # Specify the number of components\n",
    "X_train_pca = pca.fit_transform(X_train)\n",
    "X_test_pca = pca.transform(X_test)\n",
    "\n",
    "# Train a classifier on the retained PCA components and evaluate\n",
    "clf = RandomForestClassifier(random_state=42)\n",
    "clf.fit(X_train_pca, y_train)\n",
    "y_pred = clf.predict(X_test_pca)\n",
    "accuracy_variance = accuracy_score(y_test, y_pred)\n",
    "\n",
    "# Print the explained variance ratio for each selected component\n",
    "print(f\"Explained variance ratio for each PCA component: {pca.explained_variance_ratio_}\")\n",
    "\n",
    "print(f\"Number of original features: {X_train.shape[1]}\")\n",
    "print(f\"Number of features retained after PCA: {X_train_pca.shape[1]}\")\n",
    "print(f\"Accuracy of Original features (testing accuracy): {accuracy}\")\n",
    "print(f\"Accuracy after PCA (testing accuracy): {accuracy_variance}\")"
   ]
  },
  {
   "cell_type": "markdown",
   "metadata": {
    "id": "g0S9izvdGDVo"
   },
   "source": [
    "**Task 3.12**: Adjust the number of components to be retained by PCA in the code snippet for classifying images in the Digits dataset and observe how it affects the classification accuracy."
   ]
  },
  {
   "cell_type": "code",
   "execution_count": 85,
   "metadata": {},
   "outputs": [
    {
     "name": "stdout",
     "output_type": "stream",
     "text": [
      "Explained variance ratio for each PCA component: [0.14804542 0.13685747 0.12028728 0.08430325 0.05633692 0.04930782\n",
      " 0.04276491 0.03567045]\n",
      "Number of original features: 64\n",
      "Number of features retained after PCA: 8\n",
      "Accuracy of Original features (testing accuracy): 0.9722222222222222\n",
      "Accuracy after PCA (testing accuracy): 0.9416666666666667\n"
     ]
    }
   ],
   "source": [
    "from sklearn.decomposition import PCA\n",
    "from sklearn.datasets import load_digits\n",
    "from sklearn.model_selection import train_test_split\n",
    "from sklearn.ensemble import RandomForestClassifier\n",
    "from sklearn.metrics import accuracy_score\n",
    "\n",
    "# Load the Digits dataset\n",
    "digits = load_digits()\n",
    "X, y = digits.data, digits.target\n",
    "\n",
    "# Split the dataset into training and testing sets\n",
    "X_train, X_test, y_train, y_test = train_test_split(X, y, test_size=0.2, random_state=42)\n",
    "\n",
    "# Train a classifier on the original features and evaluate\n",
    "clf = RandomForestClassifier(random_state=42)\n",
    "clf.fit(X_train, y_train)\n",
    "y_pred = clf.predict(X_test)\n",
    "accuracy = accuracy_score(y_test, y_pred)\n",
    "\n",
    "# Create PCA instance and fit to the data\n",
    "pca = PCA(n_components=8)  # Specify the number of components (you can adjust this)\n",
    "X_train_pca = pca.fit_transform(X_train)\n",
    "X_test_pca = pca.transform(X_test)\n",
    "\n",
    "# Train a classifier on the retained PCA components and evaluate\n",
    "clf = RandomForestClassifier(random_state=42)\n",
    "clf.fit(X_train_pca, y_train)\n",
    "y_pred = clf.predict(X_test_pca)\n",
    "accuracy_variance = accuracy_score(y_test, y_pred)\n",
    "\n",
    "# Print the explained variance ratio for each selected component\n",
    "print(f\"Explained variance ratio for each PCA component: {pca.explained_variance_ratio_}\")\n",
    "\n",
    "print(f\"Number of original features: {X_train.shape[1]}\")\n",
    "print(f\"Number of features retained after PCA: {X_train_pca.shape[1]}\")\n",
    "print(f\"Accuracy of Original features (testing accuracy): {accuracy}\")\n",
    "print(f\"Accuracy after PCA (testing accuracy): {accuracy_variance}\")\n"
   ]
  },
  {
   "cell_type": "markdown",
   "metadata": {
    "id": "Fph-du2gGfFM"
   },
   "source": [
    "**Task 3.13**: In this task, you will reinforce the knowledge acquired during the experiment concerning the impact of applying PCA on machine learning. You will be working with the \"Faces in the Wild\" (LFW) dataset. The LFW dataset is a widely recognized benchmark dataset within the domains of computer vision and machine learning, primarily used for face recognition tasks. It comprises a collection of grayscale images featuring human faces, with each image associated with the identity of the depicted individual.\n",
    "\n",
    "Once you have loaded the dataset, your objective is to implement the following steps:\n",
    "1. Split the dataset into training and testing subsets.\n",
    "2. Train a random forest model using the training data.\n",
    "3. Assess the model's accuracy by evaluating its performance on the testing data.\n",
    "4. Apply PCA with a specified number of components, such as n=8.\n",
    "5. Train and evaluate the random forest model using the retained PCA components.\n",
    "6. Experiment with different numbers of retained PCA components and provide insights based on your observations.\n",
    "\n",
    "\n",
    "You can load the LFW dataset using the provided code snippet."
   ]
  },
  {
   "cell_type": "code",
   "execution_count": 125,
   "metadata": {
    "id": "5EUfEBkLG7tf"
   },
   "outputs": [],
   "source": [
    "from sklearn.datasets import fetch_lfw_people\n",
    "\n",
    "lfw_dataset = fetch_lfw_people(min_faces_per_person=70, resize=0.4)\n",
    "\n",
    "# Extract the data and target labels\n",
    "X = lfw_dataset.data\n",
    "y = lfw_dataset.target"
   ]
  },
  {
   "cell_type": "code",
   "execution_count": 130,
   "metadata": {
    "id": "fxCcsomRJaZv"
   },
   "outputs": [
    {
     "name": "stdout",
     "output_type": "stream",
     "text": [
      "Explained variance ratio for each PCA component: [0.1796971  0.1573181  0.07344007 0.06011254 0.05139663 0.0308008\n",
      " 0.02524016 0.02169511 0.02064915 0.01939938 0.01645109 0.01441437\n",
      " 0.01272005 0.01097791 0.01029884 0.01019456 0.00931263 0.00881182\n",
      " 0.00818656 0.0074081  0.00704037 0.00668135 0.0064959  0.00595676\n",
      " 0.00548896 0.00530443 0.00506915 0.00485467 0.0047413  0.00438598\n",
      " 0.00395694 0.00384593 0.00371761 0.00362041 0.0035441  0.00340796\n",
      " 0.00320789 0.00308308 0.00293943 0.00285323 0.00278704 0.00276856\n",
      " 0.00263534 0.00255552 0.0024727  0.00244568 0.00237295 0.00228227\n",
      " 0.00218245 0.00210344 0.00208797 0.00201004 0.00197187 0.0019561\n",
      " 0.00184434 0.00183043 0.0017732  0.00176026 0.00172106 0.00165963\n",
      " 0.00163291 0.00159543 0.00156478 0.00155689 0.00152112 0.00150744\n",
      " 0.00148546 0.00145154 0.00141659 0.00138291 0.00133759 0.00132849\n",
      " 0.00128692 0.00124786 0.00121816 0.00121267 0.00119497 0.00118109\n",
      " 0.00116204 0.00113726 0.00112407 0.00110234 0.0010918  0.00108049\n",
      " 0.00102997 0.0010218  0.00100074 0.00099156 0.00097351 0.00094411\n",
      " 0.00093267 0.00091575 0.00089844 0.00087426 0.00085679 0.00083812\n",
      " 0.00083034 0.00081003 0.00078799 0.00078242]\n",
      "Number of original features: 1850\n",
      "Number of features retained after PCA: 100\n",
      "Accuracy of Original features (testing accuracy): 0.6475409836065574\n",
      "Accuracy after PCA (testing accuracy): 0.610655737704918\n"
     ]
    }
   ],
   "source": [
    "#write you code here\n",
    "\n",
    "from sklearn.model_selection import train_test_split\n",
    "from sklearn.ensemble import RandomForestClassifier\n",
    "from sklearn.metrics import accuracy_score\n",
    "from sklearn.decomposition import PCA\n",
    "\n",
    "\n",
    "# Split the dataset into training and testing sets\n",
    "X_train, X_test, y_train, y_test = train_test_split(X, y, test_size=0.2, random_state=42)\n",
    "\n",
    "# Train a classifier on the original features and evaluate\n",
    "clf = RandomForestClassifier(random_state=42)\n",
    "clf.fit(X_train, y_train)\n",
    "y_pred = clf.predict(X_test)\n",
    "accuracy = accuracy_score(y_test, y_pred)\n",
    "\n",
    "# Create PCA instance and fit to the data with a specified number of components\n",
    "pca = PCA(n_components=100)  # You can adjust the number of components here\n",
    "X_train_pca = pca.fit_transform(X_train)\n",
    "X_test_pca = pca.transform(X_test)\n",
    "\n",
    "# Train a classifier on the retained PCA components and evaluate\n",
    "clf = RandomForestClassifier(random_state=42)\n",
    "clf.fit(X_train_pca, y_train)\n",
    "y_pred = clf.predict(X_test_pca)\n",
    "accuracy_variance = accuracy_score(y_test, y_pred)\n",
    "\n",
    "# Print the explained variance ratio for each selected component\n",
    "print(f\"Explained variance ratio for each PCA component: {pca.explained_variance_ratio_}\")\n",
    "\n",
    "print(f\"Number of original features: {X_train.shape[1]}\")\n",
    "print(f\"Number of features retained after PCA: {X_train_pca.shape[1]}\")\n",
    "print(f\"Accuracy of Original features (testing accuracy): {accuracy}\")\n",
    "print(f\"Accuracy after PCA (testing accuracy): {accuracy_variance}\")\n"
   ]
  },
  {
   "cell_type": "code",
   "execution_count": 131,
   "metadata": {},
   "outputs": [
    {
     "data": {
      "image/png": "[encoded data removed]",
      "text/plain": [
       "<Figure size 1000x600 with 1 Axes>"
      ]
     },
     "metadata": {},
     "output_type": "display_data"
    }
   ],
   "source": [
    "import matplotlib.pyplot as plt\n",
    "from sklearn.decomposition import PCA\n",
    "from sklearn.datasets import load_digits\n",
    "from sklearn.model_selection import train_test_split\n",
    "from sklearn.ensemble import RandomForestClassifier\n",
    "from sklearn.metrics import accuracy_score\n",
    "\n",
    "# Load the Digits dataset\n",
    "X, y = lfw_dataset.data, lfw_dataset.target\n",
    "\n",
    "# Split the dataset into training and testing sets\n",
    "X_train, X_test, y_train, y_test = train_test_split(X, y, test_size=0.2, random_state=42)\n",
    "\n",
    "# Specify a range of n_components values\n",
    "n_components_values = list(range(1, 100))  # Updated range from 1 to 64\n",
    "\n",
    "# Initialize a list to store accuracy values\n",
    "accuracy_values = []\n",
    "\n",
    "# Calculate accuracy for each n_components value\n",
    "for n_components in n_components_values:\n",
    "    # Create PCA instance and fit to the data with the specified number of components\n",
    "    pca = PCA(n_components=n_components)\n",
    "    X_train_pca = pca.fit_transform(X_train)\n",
    "    X_test_pca = pca.transform(X_test)\n",
    "    \n",
    "    # Train a classifier on the retained PCA components and evaluate\n",
    "    clf = RandomForestClassifier(random_state=42)\n",
    "    clf.fit(X_train_pca, y_train)\n",
    "    y_pred = clf.predict(X_test_pca)\n",
    "    accuracy = accuracy_score(y_test, y_pred)\n",
    "    \n",
    "    accuracy_values.append(accuracy)\n",
    "\n",
    "# Create a graph to visualize the relationship between n_components and accuracy\n",
    "plt.figure(figsize=(10, 6))\n",
    "plt.plot(n_components_values, accuracy_values, marker='o')\n",
    "plt.title('Accuracy vs. Number of Components (PCA)')\n",
    "plt.xlabel('Number of Components (n_components)')\n",
    "plt.ylabel('Accuracy')\n",
    "plt.grid(True)\n",
    "plt.show()\n"
   ]
  },
  {
   "cell_type": "markdown",
   "metadata": {
    "id": "H6uSwCdoQI-h"
   },
   "source": [
    "#**Case Study 3.1**\n",
    "In this case study, you will perform essential data preprocessing steps on the Penguins dataset. The dataset contains information about different species of penguins, including their physical characteristics and the region where they were observed. Your goal is to prepare the dataset for machine learning analysis. Follow these steps:\n",
    "1. Load the penguins dataset using the code snippet provided below.\n",
    "2. Perform initial data exploration to understand the dataset's structure, features, and any missing values. Summarize the dataset's statistics and gain insights into the data.\n",
    "3. Address any data quality issues, such as missing values and outliers. Decide on an appropriate strategy for handling missing data, such as imputation or removal of rows/columns.\n",
    "4. Analyze the relevance of each feature for your machine learning task by using the learned use feature selection technques.\n",
    "5. If the dataset contains categorical variables, encode them into a numerical format suitable for machine learning models.\n",
    "6. Split the dataset into training and testing subsets to evaluate the performance of your machine learning models.\n",
    "7. Scale or normalize the numerical features to ensure consistent scaling across variables.\n",
    "8. Apply suitable dimensionality reduction techniques to reduce the size of the data while preserving important information.\n",
    "9. Validate your preprocessing pipeline by training and evaluating a machine learning model, such as the Random Forest model, on the preprocessed data. Compare the results to the model trained on the raw data (before feature filtering, transformation, and reduction) to ensure that preprocessing has improved model performance.\n",
    "\n",
    "\n",
    "\n",
    "\n",
    "\n"
   ]
  },
  {
   "cell_type": "code",
   "execution_count": 83,
   "metadata": {
    "colab": {
     "base_uri": "https://localhost:8080/",
     "height": 206
    },
    "id": "zviyIaMwS5T5",
    "outputId": "fff68468-5cd5-4adc-da43-583b2bcf7233"
   },
   "outputs": [
    {
     "data": {
      "text/html": [
       "\n",
       "  <div id=\"df-527be8e3-bceb-441d-8d1b-1a5335995404\" class=\"colab-df-container\">\n",
       "    <div>\n",
       "<style scoped>\n",
       "    .dataframe tbody tr th:only-of-type {\n",
       "        vertical-align: middle;\n",
       "    }\n",
       "\n",
       "    .dataframe tbody tr th {\n",
       "        vertical-align: top;\n",
       "    }\n",
       "\n",
       "    .dataframe thead th {\n",
       "        text-align: right;\n",
       "    }\n",
       "</style>\n",
       "<table border=\"1\" class=\"dataframe\">\n",
       "  <thead>\n",
       "    <tr style=\"text-align: right;\">\n",
       "      <th></th>\n",
       "      <th>species</th>\n",
       "      <th>island</th>\n",
       "      <th>bill_length_mm</th>\n",
       "      <th>bill_depth_mm</th>\n",
       "      <th>flipper_length_mm</th>\n",
       "      <th>body_mass_g</th>\n",
       "      <th>sex</th>\n",
       "    </tr>\n",
       "  </thead>\n",
       "  <tbody>\n",
       "    <tr>\n",
       "      <th>0</th>\n",
       "      <td>Adelie</td>\n",
       "      <td>Torgersen</td>\n",
       "      <td>39.1</td>\n",
       "      <td>18.7</td>\n",
       "      <td>181.0</td>\n",
       "      <td>3750.0</td>\n",
       "      <td>Male</td>\n",
       "    </tr>\n",
       "    <tr>\n",
       "      <th>1</th>\n",
       "      <td>Adelie</td>\n",
       "      <td>Torgersen</td>\n",
       "      <td>39.5</td>\n",
       "      <td>17.4</td>\n",
       "      <td>186.0</td>\n",
       "      <td>3800.0</td>\n",
       "      <td>Female</td>\n",
       "    </tr>\n",
       "    <tr>\n",
       "      <th>2</th>\n",
       "      <td>Adelie</td>\n",
       "      <td>Torgersen</td>\n",
       "      <td>40.3</td>\n",
       "      <td>18.0</td>\n",
       "      <td>195.0</td>\n",
       "      <td>3250.0</td>\n",
       "      <td>Female</td>\n",
       "    </tr>\n",
       "    <tr>\n",
       "      <th>3</th>\n",
       "      <td>Adelie</td>\n",
       "      <td>Torgersen</td>\n",
       "      <td>NaN</td>\n",
       "      <td>NaN</td>\n",
       "      <td>NaN</td>\n",
       "      <td>NaN</td>\n",
       "      <td>NaN</td>\n",
       "    </tr>\n",
       "    <tr>\n",
       "      <th>4</th>\n",
       "      <td>Adelie</td>\n",
       "      <td>Torgersen</td>\n",
       "      <td>36.7</td>\n",
       "      <td>19.3</td>\n",
       "      <td>193.0</td>\n",
       "      <td>3450.0</td>\n",
       "      <td>Female</td>\n",
       "    </tr>\n",
       "  </tbody>\n",
       "</table>\n",
       "</div>\n",
       "    <div class=\"colab-df-buttons\">\n",
       "\n",
       "  <div class=\"colab-df-container\">\n",
       "    <button class=\"colab-df-convert\" onclick=\"convertToInteractive('df-527be8e3-bceb-441d-8d1b-1a5335995404')\"\n",
       "            title=\"Convert this dataframe to an interactive table.\"\n",
       "            style=\"display:none;\">\n",
       "\n",
       "  <svg xmlns=\"http://www.w3.org/2000/svg\" height=\"24px\" viewBox=\"0 -960 960 960\">\n",
       "    <path d=\"M120-120v-720h720v720H120Zm60-500h600v-160H180v160Zm220 220h160v-160H400v160Zm0 220h160v-160H400v160ZM180-400h160v-160H180v160Zm440 0h160v-160H620v160ZM180-180h160v-160H180v160Zm440 0h160v-160H620v160Z\"/>\n",
       "  </svg>\n",
       "    </button>\n",
       "\n",
       "  <style>\n",
       "    .colab-df-container {\n",
       "      display:flex;\n",
       "      gap: 12px;\n",
       "    }\n",
       "\n",
       "    .colab-df-convert {\n",
       "      background-color: #E8F0FE;\n",
       "      border: none;\n",
       "      border-radius: 50%;\n",
       "      cursor: pointer;\n",
       "      display: none;\n",
       "      fill: #1967D2;\n",
       "      height: 32px;\n",
       "      padding: 0 0 0 0;\n",
       "      width: 32px;\n",
       "    }\n",
       "\n",
       "    .colab-df-convert:hover {\n",
       "      background-color: #E2EBFA;\n",
       "      box-shadow: 0px 1px 2px rgba(60, 64, 67, 0.3), 0px 1px 3px 1px rgba(60, 64, 67, 0.15);\n",
       "      fill: #174EA6;\n",
       "    }\n",
       "\n",
       "    .colab-df-buttons div {\n",
       "      margin-bottom: 4px;\n",
       "    }\n",
       "\n",
       "    [theme=dark] .colab-df-convert {\n",
       "      background-color: #3B4455;\n",
       "      fill: #D2E3FC;\n",
       "    }\n",
       "\n",
       "    [theme=dark] .colab-df-convert:hover {\n",
       "      background-color: #434B5C;\n",
       "      box-shadow: 0px 1px 3px 1px rgba(0, 0, 0, 0.15);\n",
       "      filter: drop-shadow(0px 1px 2px rgba(0, 0, 0, 0.3));\n",
       "      fill: #FFFFFF;\n",
       "    }\n",
       "  </style>\n",
       "\n",
       "    <script>\n",
       "      const buttonEl =\n",
       "        document.querySelector('#df-527be8e3-bceb-441d-8d1b-1a5335995404 button.colab-df-convert');\n",
       "      buttonEl.style.display =\n",
       "        google.colab.kernel.accessAllowed ? 'block' : 'none';\n",
       "\n",
       "      async function convertToInteractive(key) {\n",
       "        const element = document.querySelector('#df-527be8e3-bceb-441d-8d1b-1a5335995404');\n",
       "        const dataTable =\n",
       "          await google.colab.kernel.invokeFunction('convertToInteractive',\n",
       "                                                    [key], {});\n",
       "        if (!dataTable) return;\n",
       "\n",
       "        const docLinkHtml = 'Like what you see? Visit the ' +\n",
       "          '<a target=\"_blank\" href=https://colab.research.google.com/notebooks/data_table.ipynb>data table notebook</a>'\n",
       "          + ' to learn more about interactive tables.';\n",
       "        element.innerHTML = '';\n",
       "        dataTable['output_type'] = 'display_data';\n",
       "        await google.colab.output.renderOutput(dataTable, element);\n",
       "        const docLink = document.createElement('div');\n",
       "        docLink.innerHTML = docLinkHtml;\n",
       "        element.appendChild(docLink);\n",
       "      }\n",
       "    </script>\n",
       "  </div>\n",
       "\n",
       "\n",
       "<div id=\"df-d79f0b57-4212-47e9-a8f2-69f402ea8dea\">\n",
       "  <button class=\"colab-df-quickchart\" onclick=\"quickchart('df-d79f0b57-4212-47e9-a8f2-69f402ea8dea')\"\n",
       "            title=\"Suggest charts.\"\n",
       "            style=\"display:none;\">\n",
       "\n",
       "<svg xmlns=\"http://www.w3.org/2000/svg\" height=\"24px\"viewBox=\"0 0 24 24\"\n",
       "     width=\"24px\">\n",
       "    <g>\n",
       "        <path d=\"M19 3H5c-1.1 0-2 .9-2 2v14c0 1.1.9 2 2 2h14c1.1 0 2-.9 2-2V5c0-1.1-.9-2-2-2zM9 17H7v-7h2v7zm4 0h-2V7h2v10zm4 0h-2v-4h2v4z\"/>\n",
       "    </g>\n",
       "</svg>\n",
       "  </button>\n",
       "\n",
       "<style>\n",
       "  .colab-df-quickchart {\n",
       "      --bg-color: #E8F0FE;\n",
       "      --fill-color: #1967D2;\n",
       "      --hover-bg-color: #E2EBFA;\n",
       "      --hover-fill-color: #174EA6;\n",
       "      --disabled-fill-color: #AAA;\n",
       "      --disabled-bg-color: #DDD;\n",
       "  }\n",
       "\n",
       "  [theme=dark] .colab-df-quickchart {\n",
       "      --bg-color: #3B4455;\n",
       "      --fill-color: #D2E3FC;\n",
       "      --hover-bg-color: #434B5C;\n",
       "      --hover-fill-color: #FFFFFF;\n",
       "      --disabled-bg-color: #3B4455;\n",
       "      --disabled-fill-color: #666;\n",
       "  }\n",
       "\n",
       "  .colab-df-quickchart {\n",
       "    background-color: var(--bg-color);\n",
       "    border: none;\n",
       "    border-radius: 50%;\n",
       "    cursor: pointer;\n",
       "    display: none;\n",
       "    fill: var(--fill-color);\n",
       "    height: 32px;\n",
       "    padding: 0;\n",
       "    width: 32px;\n",
       "  }\n",
       "\n",
       "  .colab-df-quickchart:hover {\n",
       "    background-color: var(--hover-bg-color);\n",
       "    box-shadow: 0 1px 2px rgba(60, 64, 67, 0.3), 0 1px 3px 1px rgba(60, 64, 67, 0.15);\n",
       "    fill: var(--button-hover-fill-color);\n",
       "  }\n",
       "\n",
       "  .colab-df-quickchart-complete:disabled,\n",
       "  .colab-df-quickchart-complete:disabled:hover {\n",
       "    background-color: var(--disabled-bg-color);\n",
       "    fill: var(--disabled-fill-color);\n",
       "    box-shadow: none;\n",
       "  }\n",
       "\n",
       "  .colab-df-spinner {\n",
       "    border: 2px solid var(--fill-color);\n",
       "    border-color: transparent;\n",
       "    border-bottom-color: var(--fill-color);\n",
       "    animation:\n",
       "      spin 1s steps(1) infinite;\n",
       "  }\n",
       "\n",
       "  @keyframes spin {\n",
       "    0% {\n",
       "      border-color: transparent;\n",
       "      border-bottom-color: var(--fill-color);\n",
       "      border-left-color: var(--fill-color);\n",
       "    }\n",
       "    20% {\n",
       "      border-color: transparent;\n",
       "      border-left-color: var(--fill-color);\n",
       "      border-top-color: var(--fill-color);\n",
       "    }\n",
       "    30% {\n",
       "      border-color: transparent;\n",
       "      border-left-color: var(--fill-color);\n",
       "      border-top-color: var(--fill-color);\n",
       "      border-right-color: var(--fill-color);\n",
       "    }\n",
       "    40% {\n",
       "      border-color: transparent;\n",
       "      border-right-color: var(--fill-color);\n",
       "      border-top-color: var(--fill-color);\n",
       "    }\n",
       "    60% {\n",
       "      border-color: transparent;\n",
       "      border-right-color: var(--fill-color);\n",
       "    }\n",
       "    80% {\n",
       "      border-color: transparent;\n",
       "      border-right-color: var(--fill-color);\n",
       "      border-bottom-color: var(--fill-color);\n",
       "    }\n",
       "    90% {\n",
       "      border-color: transparent;\n",
       "      border-bottom-color: var(--fill-color);\n",
       "    }\n",
       "  }\n",
       "</style>\n",
       "\n",
       "  <script>\n",
       "    async function quickchart(key) {\n",
       "      const quickchartButtonEl =\n",
       "        document.querySelector('#' + key + ' button');\n",
       "      quickchartButtonEl.disabled = true;  // To prevent multiple clicks.\n",
       "      quickchartButtonEl.classList.add('colab-df-spinner');\n",
       "      try {\n",
       "        const charts = await google.colab.kernel.invokeFunction(\n",
       "            'suggestCharts', [key], {});\n",
       "      } catch (error) {\n",
       "        console.error('Error during call to suggestCharts:', error);\n",
       "      }\n",
       "      quickchartButtonEl.classList.remove('colab-df-spinner');\n",
       "      quickchartButtonEl.classList.add('colab-df-quickchart-complete');\n",
       "    }\n",
       "    (() => {\n",
       "      let quickchartButtonEl =\n",
       "        document.querySelector('#df-d79f0b57-4212-47e9-a8f2-69f402ea8dea button');\n",
       "      quickchartButtonEl.style.display =\n",
       "        google.colab.kernel.accessAllowed ? 'block' : 'none';\n",
       "    })();\n",
       "  </script>\n",
       "</div>\n",
       "    </div>\n",
       "  </div>\n"
      ],
      "text/plain": [
       "  species     island  bill_length_mm  bill_depth_mm  flipper_length_mm  \\\n",
       "0  Adelie  Torgersen            39.1           18.7              181.0   \n",
       "1  Adelie  Torgersen            39.5           17.4              186.0   \n",
       "2  Adelie  Torgersen            40.3           18.0              195.0   \n",
       "3  Adelie  Torgersen             NaN            NaN                NaN   \n",
       "4  Adelie  Torgersen            36.7           19.3              193.0   \n",
       "\n",
       "   body_mass_g     sex  \n",
       "0       3750.0    Male  \n",
       "1       3800.0  Female  \n",
       "2       3250.0  Female  \n",
       "3          NaN     NaN  \n",
       "4       3450.0  Female  "
      ]
     },
     "execution_count": 83,
     "metadata": {},
     "output_type": "execute_result"
    }
   ],
   "source": [
    "# Import the 'load_dataset' function from seaborn to load the penguins dataset\n",
    "from seaborn import load_dataset\n",
    "\n",
    "# Load the penguins dataset and store it in the 'df' DataFrame\n",
    "df = load_dataset('penguins')\n",
    "\n",
    "# Display the first few rows of the DataFrame to get an initial look at the data\n",
    "df.head()"
   ]
  },
  {
   "cell_type": "code",
   "execution_count": 84,
   "metadata": {
    "id": "8egqEOIsTAmD"
   },
   "outputs": [],
   "source": [
    "#write you code here\n"
   ]
  }
 ],
 "metadata": {
  "colab": {
   "authorship_tag": "ABX9TyMcRdVltE1bT9CrwocWYy3v",
   "include_colab_link": true,
   "provenance": []
  },
  "kernelspec": {
   "display_name": "Python 3 (ipykernel)",
   "language": "python",
   "name": "python3"
  },
  "language_info": {
   "codemirror_mode": {
    "name": "ipython",
    "version": 3
   },
   "file_extension": ".py",
   "mimetype": "text/x-python",
   "name": "python",
   "nbconvert_exporter": "python",
   "pygments_lexer": "ipython3",
   "version": "3.9.13"
  }
 },
 "nbformat": 4,
 "nbformat_minor": 1
}
